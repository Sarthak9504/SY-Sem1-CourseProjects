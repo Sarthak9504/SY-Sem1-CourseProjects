{
  "nbformat": 4,
  "nbformat_minor": 0,
  "metadata": {
    "colab": {
      "provenance": [],
      "gpuType": "T4",
      "authorship_tag": "ABX9TyMJkFVQhZhgYeI3ePbX6IIt",
      "include_colab_link": true
    },
    "kernelspec": {
      "name": "python3",
      "display_name": "Python 3"
    },
    "language_info": {
      "name": "python"
    },
    "accelerator": "GPU",
    "widgets": {
      "application/vnd.jupyter.widget-state+json": {
        "a5ef7e9e3157447aa7fd77fc6d2df9e2": {
          "model_module": "@jupyter-widgets/controls",
          "model_name": "HBoxModel",
          "model_module_version": "1.5.0",
          "state": {
            "_dom_classes": [],
            "_model_module": "@jupyter-widgets/controls",
            "_model_module_version": "1.5.0",
            "_model_name": "HBoxModel",
            "_view_count": null,
            "_view_module": "@jupyter-widgets/controls",
            "_view_module_version": "1.5.0",
            "_view_name": "HBoxView",
            "box_style": "",
            "children": [
              "IPY_MODEL_f5e54da547084bf7a1213875a12984f9",
              "IPY_MODEL_de322403e4634de3bdd9c6711b64e072",
              "IPY_MODEL_6cf906408e68496eb5d7996c48b10098"
            ],
            "layout": "IPY_MODEL_e35f3a4fd9e34d869fef63b20c1a518b"
          }
        },
        "f5e54da547084bf7a1213875a12984f9": {
          "model_module": "@jupyter-widgets/controls",
          "model_name": "HTMLModel",
          "model_module_version": "1.5.0",
          "state": {
            "_dom_classes": [],
            "_model_module": "@jupyter-widgets/controls",
            "_model_module_version": "1.5.0",
            "_model_name": "HTMLModel",
            "_view_count": null,
            "_view_module": "@jupyter-widgets/controls",
            "_view_module_version": "1.5.0",
            "_view_name": "HTMLView",
            "description": "",
            "description_tooltip": null,
            "layout": "IPY_MODEL_2e3b8d6bea7b474fb0f0b38b687eacec",
            "placeholder": "​",
            "style": "IPY_MODEL_31fdb1354c904f92980eee8cf65ea25a",
            "value": "Batches: 100%"
          }
        },
        "de322403e4634de3bdd9c6711b64e072": {
          "model_module": "@jupyter-widgets/controls",
          "model_name": "FloatProgressModel",
          "model_module_version": "1.5.0",
          "state": {
            "_dom_classes": [],
            "_model_module": "@jupyter-widgets/controls",
            "_model_module_version": "1.5.0",
            "_model_name": "FloatProgressModel",
            "_view_count": null,
            "_view_module": "@jupyter-widgets/controls",
            "_view_module_version": "1.5.0",
            "_view_name": "ProgressView",
            "bar_style": "success",
            "description": "",
            "description_tooltip": null,
            "layout": "IPY_MODEL_e76e77a85f014284b40ef69c9bf2543c",
            "max": 379,
            "min": 0,
            "orientation": "horizontal",
            "style": "IPY_MODEL_331daa239abb41dda866edef90853d87",
            "value": 379
          }
        },
        "6cf906408e68496eb5d7996c48b10098": {
          "model_module": "@jupyter-widgets/controls",
          "model_name": "HTMLModel",
          "model_module_version": "1.5.0",
          "state": {
            "_dom_classes": [],
            "_model_module": "@jupyter-widgets/controls",
            "_model_module_version": "1.5.0",
            "_model_name": "HTMLModel",
            "_view_count": null,
            "_view_module": "@jupyter-widgets/controls",
            "_view_module_version": "1.5.0",
            "_view_name": "HTMLView",
            "description": "",
            "description_tooltip": null,
            "layout": "IPY_MODEL_6b2b31312cb1432e988e303382bae2ec",
            "placeholder": "​",
            "style": "IPY_MODEL_ebea0678b95c4565a835aa1d1242b990",
            "value": " 379/379 [00:34&lt;00:00, 30.50it/s]"
          }
        },
        "e35f3a4fd9e34d869fef63b20c1a518b": {
          "model_module": "@jupyter-widgets/base",
          "model_name": "LayoutModel",
          "model_module_version": "1.2.0",
          "state": {
            "_model_module": "@jupyter-widgets/base",
            "_model_module_version": "1.2.0",
            "_model_name": "LayoutModel",
            "_view_count": null,
            "_view_module": "@jupyter-widgets/base",
            "_view_module_version": "1.2.0",
            "_view_name": "LayoutView",
            "align_content": null,
            "align_items": null,
            "align_self": null,
            "border": null,
            "bottom": null,
            "display": null,
            "flex": null,
            "flex_flow": null,
            "grid_area": null,
            "grid_auto_columns": null,
            "grid_auto_flow": null,
            "grid_auto_rows": null,
            "grid_column": null,
            "grid_gap": null,
            "grid_row": null,
            "grid_template_areas": null,
            "grid_template_columns": null,
            "grid_template_rows": null,
            "height": null,
            "justify_content": null,
            "justify_items": null,
            "left": null,
            "margin": null,
            "max_height": null,
            "max_width": null,
            "min_height": null,
            "min_width": null,
            "object_fit": null,
            "object_position": null,
            "order": null,
            "overflow": null,
            "overflow_x": null,
            "overflow_y": null,
            "padding": null,
            "right": null,
            "top": null,
            "visibility": null,
            "width": null
          }
        },
        "2e3b8d6bea7b474fb0f0b38b687eacec": {
          "model_module": "@jupyter-widgets/base",
          "model_name": "LayoutModel",
          "model_module_version": "1.2.0",
          "state": {
            "_model_module": "@jupyter-widgets/base",
            "_model_module_version": "1.2.0",
            "_model_name": "LayoutModel",
            "_view_count": null,
            "_view_module": "@jupyter-widgets/base",
            "_view_module_version": "1.2.0",
            "_view_name": "LayoutView",
            "align_content": null,
            "align_items": null,
            "align_self": null,
            "border": null,
            "bottom": null,
            "display": null,
            "flex": null,
            "flex_flow": null,
            "grid_area": null,
            "grid_auto_columns": null,
            "grid_auto_flow": null,
            "grid_auto_rows": null,
            "grid_column": null,
            "grid_gap": null,
            "grid_row": null,
            "grid_template_areas": null,
            "grid_template_columns": null,
            "grid_template_rows": null,
            "height": null,
            "justify_content": null,
            "justify_items": null,
            "left": null,
            "margin": null,
            "max_height": null,
            "max_width": null,
            "min_height": null,
            "min_width": null,
            "object_fit": null,
            "object_position": null,
            "order": null,
            "overflow": null,
            "overflow_x": null,
            "overflow_y": null,
            "padding": null,
            "right": null,
            "top": null,
            "visibility": null,
            "width": null
          }
        },
        "31fdb1354c904f92980eee8cf65ea25a": {
          "model_module": "@jupyter-widgets/controls",
          "model_name": "DescriptionStyleModel",
          "model_module_version": "1.5.0",
          "state": {
            "_model_module": "@jupyter-widgets/controls",
            "_model_module_version": "1.5.0",
            "_model_name": "DescriptionStyleModel",
            "_view_count": null,
            "_view_module": "@jupyter-widgets/base",
            "_view_module_version": "1.2.0",
            "_view_name": "StyleView",
            "description_width": ""
          }
        },
        "e76e77a85f014284b40ef69c9bf2543c": {
          "model_module": "@jupyter-widgets/base",
          "model_name": "LayoutModel",
          "model_module_version": "1.2.0",
          "state": {
            "_model_module": "@jupyter-widgets/base",
            "_model_module_version": "1.2.0",
            "_model_name": "LayoutModel",
            "_view_count": null,
            "_view_module": "@jupyter-widgets/base",
            "_view_module_version": "1.2.0",
            "_view_name": "LayoutView",
            "align_content": null,
            "align_items": null,
            "align_self": null,
            "border": null,
            "bottom": null,
            "display": null,
            "flex": null,
            "flex_flow": null,
            "grid_area": null,
            "grid_auto_columns": null,
            "grid_auto_flow": null,
            "grid_auto_rows": null,
            "grid_column": null,
            "grid_gap": null,
            "grid_row": null,
            "grid_template_areas": null,
            "grid_template_columns": null,
            "grid_template_rows": null,
            "height": null,
            "justify_content": null,
            "justify_items": null,
            "left": null,
            "margin": null,
            "max_height": null,
            "max_width": null,
            "min_height": null,
            "min_width": null,
            "object_fit": null,
            "object_position": null,
            "order": null,
            "overflow": null,
            "overflow_x": null,
            "overflow_y": null,
            "padding": null,
            "right": null,
            "top": null,
            "visibility": null,
            "width": null
          }
        },
        "331daa239abb41dda866edef90853d87": {
          "model_module": "@jupyter-widgets/controls",
          "model_name": "ProgressStyleModel",
          "model_module_version": "1.5.0",
          "state": {
            "_model_module": "@jupyter-widgets/controls",
            "_model_module_version": "1.5.0",
            "_model_name": "ProgressStyleModel",
            "_view_count": null,
            "_view_module": "@jupyter-widgets/base",
            "_view_module_version": "1.2.0",
            "_view_name": "StyleView",
            "bar_color": null,
            "description_width": ""
          }
        },
        "6b2b31312cb1432e988e303382bae2ec": {
          "model_module": "@jupyter-widgets/base",
          "model_name": "LayoutModel",
          "model_module_version": "1.2.0",
          "state": {
            "_model_module": "@jupyter-widgets/base",
            "_model_module_version": "1.2.0",
            "_model_name": "LayoutModel",
            "_view_count": null,
            "_view_module": "@jupyter-widgets/base",
            "_view_module_version": "1.2.0",
            "_view_name": "LayoutView",
            "align_content": null,
            "align_items": null,
            "align_self": null,
            "border": null,
            "bottom": null,
            "display": null,
            "flex": null,
            "flex_flow": null,
            "grid_area": null,
            "grid_auto_columns": null,
            "grid_auto_flow": null,
            "grid_auto_rows": null,
            "grid_column": null,
            "grid_gap": null,
            "grid_row": null,
            "grid_template_areas": null,
            "grid_template_columns": null,
            "grid_template_rows": null,
            "height": null,
            "justify_content": null,
            "justify_items": null,
            "left": null,
            "margin": null,
            "max_height": null,
            "max_width": null,
            "min_height": null,
            "min_width": null,
            "object_fit": null,
            "object_position": null,
            "order": null,
            "overflow": null,
            "overflow_x": null,
            "overflow_y": null,
            "padding": null,
            "right": null,
            "top": null,
            "visibility": null,
            "width": null
          }
        },
        "ebea0678b95c4565a835aa1d1242b990": {
          "model_module": "@jupyter-widgets/controls",
          "model_name": "DescriptionStyleModel",
          "model_module_version": "1.5.0",
          "state": {
            "_model_module": "@jupyter-widgets/controls",
            "_model_module_version": "1.5.0",
            "_model_name": "DescriptionStyleModel",
            "_view_count": null,
            "_view_module": "@jupyter-widgets/base",
            "_view_module_version": "1.2.0",
            "_view_name": "StyleView",
            "description_width": ""
          }
        },
        "97db08854b3c4e068a6403ae522a862e": {
          "model_module": "@jupyter-widgets/controls",
          "model_name": "HBoxModel",
          "model_module_version": "1.5.0",
          "state": {
            "_dom_classes": [],
            "_model_module": "@jupyter-widgets/controls",
            "_model_module_version": "1.5.0",
            "_model_name": "HBoxModel",
            "_view_count": null,
            "_view_module": "@jupyter-widgets/controls",
            "_view_module_version": "1.5.0",
            "_view_name": "HBoxView",
            "box_style": "",
            "children": [
              "IPY_MODEL_0159f9bec54a40ce908d8a67f3ac625e",
              "IPY_MODEL_b783ba51e9014331b60c7e739e4eeece",
              "IPY_MODEL_025d374e0cb7436db8b1ddfaf638e12a"
            ],
            "layout": "IPY_MODEL_f78259bd5c9540efaa7d5d7029ad0776"
          }
        },
        "0159f9bec54a40ce908d8a67f3ac625e": {
          "model_module": "@jupyter-widgets/controls",
          "model_name": "HTMLModel",
          "model_module_version": "1.5.0",
          "state": {
            "_dom_classes": [],
            "_model_module": "@jupyter-widgets/controls",
            "_model_module_version": "1.5.0",
            "_model_name": "HTMLModel",
            "_view_count": null,
            "_view_module": "@jupyter-widgets/controls",
            "_view_module_version": "1.5.0",
            "_view_name": "HTMLView",
            "description": "",
            "description_tooltip": null,
            "layout": "IPY_MODEL_466399a77850420f833b2f88a714ddfc",
            "placeholder": "​",
            "style": "IPY_MODEL_c5cc369284c54be784e03566d42ea91b",
            "value": "Batches: 100%"
          }
        },
        "b783ba51e9014331b60c7e739e4eeece": {
          "model_module": "@jupyter-widgets/controls",
          "model_name": "FloatProgressModel",
          "model_module_version": "1.5.0",
          "state": {
            "_dom_classes": [],
            "_model_module": "@jupyter-widgets/controls",
            "_model_module_version": "1.5.0",
            "_model_name": "FloatProgressModel",
            "_view_count": null,
            "_view_module": "@jupyter-widgets/controls",
            "_view_module_version": "1.5.0",
            "_view_name": "ProgressView",
            "bar_style": "success",
            "description": "",
            "description_tooltip": null,
            "layout": "IPY_MODEL_14031bf0b30e42b18ff914b01f53f5cf",
            "max": 47,
            "min": 0,
            "orientation": "horizontal",
            "style": "IPY_MODEL_ea5f6c139a1c4926ad51ef27b079f1f9",
            "value": 47
          }
        },
        "025d374e0cb7436db8b1ddfaf638e12a": {
          "model_module": "@jupyter-widgets/controls",
          "model_name": "HTMLModel",
          "model_module_version": "1.5.0",
          "state": {
            "_dom_classes": [],
            "_model_module": "@jupyter-widgets/controls",
            "_model_module_version": "1.5.0",
            "_model_name": "HTMLModel",
            "_view_count": null,
            "_view_module": "@jupyter-widgets/controls",
            "_view_module_version": "1.5.0",
            "_view_name": "HTMLView",
            "description": "",
            "description_tooltip": null,
            "layout": "IPY_MODEL_25151516775a4e1d92d5255c39f4c7cf",
            "placeholder": "​",
            "style": "IPY_MODEL_dfcf7a10281e4f53894dbbbb18c88449",
            "value": " 47/47 [00:04&lt;00:00, 16.72it/s]"
          }
        },
        "f78259bd5c9540efaa7d5d7029ad0776": {
          "model_module": "@jupyter-widgets/base",
          "model_name": "LayoutModel",
          "model_module_version": "1.2.0",
          "state": {
            "_model_module": "@jupyter-widgets/base",
            "_model_module_version": "1.2.0",
            "_model_name": "LayoutModel",
            "_view_count": null,
            "_view_module": "@jupyter-widgets/base",
            "_view_module_version": "1.2.0",
            "_view_name": "LayoutView",
            "align_content": null,
            "align_items": null,
            "align_self": null,
            "border": null,
            "bottom": null,
            "display": null,
            "flex": null,
            "flex_flow": null,
            "grid_area": null,
            "grid_auto_columns": null,
            "grid_auto_flow": null,
            "grid_auto_rows": null,
            "grid_column": null,
            "grid_gap": null,
            "grid_row": null,
            "grid_template_areas": null,
            "grid_template_columns": null,
            "grid_template_rows": null,
            "height": null,
            "justify_content": null,
            "justify_items": null,
            "left": null,
            "margin": null,
            "max_height": null,
            "max_width": null,
            "min_height": null,
            "min_width": null,
            "object_fit": null,
            "object_position": null,
            "order": null,
            "overflow": null,
            "overflow_x": null,
            "overflow_y": null,
            "padding": null,
            "right": null,
            "top": null,
            "visibility": null,
            "width": null
          }
        },
        "466399a77850420f833b2f88a714ddfc": {
          "model_module": "@jupyter-widgets/base",
          "model_name": "LayoutModel",
          "model_module_version": "1.2.0",
          "state": {
            "_model_module": "@jupyter-widgets/base",
            "_model_module_version": "1.2.0",
            "_model_name": "LayoutModel",
            "_view_count": null,
            "_view_module": "@jupyter-widgets/base",
            "_view_module_version": "1.2.0",
            "_view_name": "LayoutView",
            "align_content": null,
            "align_items": null,
            "align_self": null,
            "border": null,
            "bottom": null,
            "display": null,
            "flex": null,
            "flex_flow": null,
            "grid_area": null,
            "grid_auto_columns": null,
            "grid_auto_flow": null,
            "grid_auto_rows": null,
            "grid_column": null,
            "grid_gap": null,
            "grid_row": null,
            "grid_template_areas": null,
            "grid_template_columns": null,
            "grid_template_rows": null,
            "height": null,
            "justify_content": null,
            "justify_items": null,
            "left": null,
            "margin": null,
            "max_height": null,
            "max_width": null,
            "min_height": null,
            "min_width": null,
            "object_fit": null,
            "object_position": null,
            "order": null,
            "overflow": null,
            "overflow_x": null,
            "overflow_y": null,
            "padding": null,
            "right": null,
            "top": null,
            "visibility": null,
            "width": null
          }
        },
        "c5cc369284c54be784e03566d42ea91b": {
          "model_module": "@jupyter-widgets/controls",
          "model_name": "DescriptionStyleModel",
          "model_module_version": "1.5.0",
          "state": {
            "_model_module": "@jupyter-widgets/controls",
            "_model_module_version": "1.5.0",
            "_model_name": "DescriptionStyleModel",
            "_view_count": null,
            "_view_module": "@jupyter-widgets/base",
            "_view_module_version": "1.2.0",
            "_view_name": "StyleView",
            "description_width": ""
          }
        },
        "14031bf0b30e42b18ff914b01f53f5cf": {
          "model_module": "@jupyter-widgets/base",
          "model_name": "LayoutModel",
          "model_module_version": "1.2.0",
          "state": {
            "_model_module": "@jupyter-widgets/base",
            "_model_module_version": "1.2.0",
            "_model_name": "LayoutModel",
            "_view_count": null,
            "_view_module": "@jupyter-widgets/base",
            "_view_module_version": "1.2.0",
            "_view_name": "LayoutView",
            "align_content": null,
            "align_items": null,
            "align_self": null,
            "border": null,
            "bottom": null,
            "display": null,
            "flex": null,
            "flex_flow": null,
            "grid_area": null,
            "grid_auto_columns": null,
            "grid_auto_flow": null,
            "grid_auto_rows": null,
            "grid_column": null,
            "grid_gap": null,
            "grid_row": null,
            "grid_template_areas": null,
            "grid_template_columns": null,
            "grid_template_rows": null,
            "height": null,
            "justify_content": null,
            "justify_items": null,
            "left": null,
            "margin": null,
            "max_height": null,
            "max_width": null,
            "min_height": null,
            "min_width": null,
            "object_fit": null,
            "object_position": null,
            "order": null,
            "overflow": null,
            "overflow_x": null,
            "overflow_y": null,
            "padding": null,
            "right": null,
            "top": null,
            "visibility": null,
            "width": null
          }
        },
        "ea5f6c139a1c4926ad51ef27b079f1f9": {
          "model_module": "@jupyter-widgets/controls",
          "model_name": "ProgressStyleModel",
          "model_module_version": "1.5.0",
          "state": {
            "_model_module": "@jupyter-widgets/controls",
            "_model_module_version": "1.5.0",
            "_model_name": "ProgressStyleModel",
            "_view_count": null,
            "_view_module": "@jupyter-widgets/base",
            "_view_module_version": "1.2.0",
            "_view_name": "StyleView",
            "bar_color": null,
            "description_width": ""
          }
        },
        "25151516775a4e1d92d5255c39f4c7cf": {
          "model_module": "@jupyter-widgets/base",
          "model_name": "LayoutModel",
          "model_module_version": "1.2.0",
          "state": {
            "_model_module": "@jupyter-widgets/base",
            "_model_module_version": "1.2.0",
            "_model_name": "LayoutModel",
            "_view_count": null,
            "_view_module": "@jupyter-widgets/base",
            "_view_module_version": "1.2.0",
            "_view_name": "LayoutView",
            "align_content": null,
            "align_items": null,
            "align_self": null,
            "border": null,
            "bottom": null,
            "display": null,
            "flex": null,
            "flex_flow": null,
            "grid_area": null,
            "grid_auto_columns": null,
            "grid_auto_flow": null,
            "grid_auto_rows": null,
            "grid_column": null,
            "grid_gap": null,
            "grid_row": null,
            "grid_template_areas": null,
            "grid_template_columns": null,
            "grid_template_rows": null,
            "height": null,
            "justify_content": null,
            "justify_items": null,
            "left": null,
            "margin": null,
            "max_height": null,
            "max_width": null,
            "min_height": null,
            "min_width": null,
            "object_fit": null,
            "object_position": null,
            "order": null,
            "overflow": null,
            "overflow_x": null,
            "overflow_y": null,
            "padding": null,
            "right": null,
            "top": null,
            "visibility": null,
            "width": null
          }
        },
        "dfcf7a10281e4f53894dbbbb18c88449": {
          "model_module": "@jupyter-widgets/controls",
          "model_name": "DescriptionStyleModel",
          "model_module_version": "1.5.0",
          "state": {
            "_model_module": "@jupyter-widgets/controls",
            "_model_module_version": "1.5.0",
            "_model_name": "DescriptionStyleModel",
            "_view_count": null,
            "_view_module": "@jupyter-widgets/base",
            "_view_module_version": "1.2.0",
            "_view_name": "StyleView",
            "description_width": ""
          }
        },
        "d14a19acf9d34e979c68a9c242b16b04": {
          "model_module": "@jupyter-widgets/controls",
          "model_name": "HBoxModel",
          "model_module_version": "1.5.0",
          "state": {
            "_dom_classes": [],
            "_model_module": "@jupyter-widgets/controls",
            "_model_module_version": "1.5.0",
            "_model_name": "HBoxModel",
            "_view_count": null,
            "_view_module": "@jupyter-widgets/controls",
            "_view_module_version": "1.5.0",
            "_view_name": "HBoxView",
            "box_style": "",
            "children": [
              "IPY_MODEL_e2478b184e2e4d8db0def17fa90a17ba",
              "IPY_MODEL_febe7b0ec7cc49b1b0c2f0a1da77200d",
              "IPY_MODEL_b84db4896fa343fcbb9ea9249d5c8d07"
            ],
            "layout": "IPY_MODEL_f4c612c849c2401ea2a950751abd0746"
          }
        },
        "e2478b184e2e4d8db0def17fa90a17ba": {
          "model_module": "@jupyter-widgets/controls",
          "model_name": "HTMLModel",
          "model_module_version": "1.5.0",
          "state": {
            "_dom_classes": [],
            "_model_module": "@jupyter-widgets/controls",
            "_model_module_version": "1.5.0",
            "_model_name": "HTMLModel",
            "_view_count": null,
            "_view_module": "@jupyter-widgets/controls",
            "_view_module_version": "1.5.0",
            "_view_name": "HTMLView",
            "description": "",
            "description_tooltip": null,
            "layout": "IPY_MODEL_a565c7b8120f45128da1d2ae4b490bbe",
            "placeholder": "​",
            "style": "IPY_MODEL_4c96a4c6112f45a38d3ae56345f210a4",
            "value": "Batches: 100%"
          }
        },
        "febe7b0ec7cc49b1b0c2f0a1da77200d": {
          "model_module": "@jupyter-widgets/controls",
          "model_name": "FloatProgressModel",
          "model_module_version": "1.5.0",
          "state": {
            "_dom_classes": [],
            "_model_module": "@jupyter-widgets/controls",
            "_model_module_version": "1.5.0",
            "_model_name": "FloatProgressModel",
            "_view_count": null,
            "_view_module": "@jupyter-widgets/controls",
            "_view_module_version": "1.5.0",
            "_view_name": "ProgressView",
            "bar_style": "success",
            "description": "",
            "description_tooltip": null,
            "layout": "IPY_MODEL_99721a9af82441fb896322de7c762d1f",
            "max": 71,
            "min": 0,
            "orientation": "horizontal",
            "style": "IPY_MODEL_541e9744208a428a962e5167d486e148",
            "value": 71
          }
        },
        "b84db4896fa343fcbb9ea9249d5c8d07": {
          "model_module": "@jupyter-widgets/controls",
          "model_name": "HTMLModel",
          "model_module_version": "1.5.0",
          "state": {
            "_dom_classes": [],
            "_model_module": "@jupyter-widgets/controls",
            "_model_module_version": "1.5.0",
            "_model_name": "HTMLModel",
            "_view_count": null,
            "_view_module": "@jupyter-widgets/controls",
            "_view_module_version": "1.5.0",
            "_view_name": "HTMLView",
            "description": "",
            "description_tooltip": null,
            "layout": "IPY_MODEL_304e1600dc274521b9af1e028691c87b",
            "placeholder": "​",
            "style": "IPY_MODEL_384a72257b844b8b9d27bbd2cb321c72",
            "value": " 71/71 [00:06&lt;00:00, 23.33it/s]"
          }
        },
        "f4c612c849c2401ea2a950751abd0746": {
          "model_module": "@jupyter-widgets/base",
          "model_name": "LayoutModel",
          "model_module_version": "1.2.0",
          "state": {
            "_model_module": "@jupyter-widgets/base",
            "_model_module_version": "1.2.0",
            "_model_name": "LayoutModel",
            "_view_count": null,
            "_view_module": "@jupyter-widgets/base",
            "_view_module_version": "1.2.0",
            "_view_name": "LayoutView",
            "align_content": null,
            "align_items": null,
            "align_self": null,
            "border": null,
            "bottom": null,
            "display": null,
            "flex": null,
            "flex_flow": null,
            "grid_area": null,
            "grid_auto_columns": null,
            "grid_auto_flow": null,
            "grid_auto_rows": null,
            "grid_column": null,
            "grid_gap": null,
            "grid_row": null,
            "grid_template_areas": null,
            "grid_template_columns": null,
            "grid_template_rows": null,
            "height": null,
            "justify_content": null,
            "justify_items": null,
            "left": null,
            "margin": null,
            "max_height": null,
            "max_width": null,
            "min_height": null,
            "min_width": null,
            "object_fit": null,
            "object_position": null,
            "order": null,
            "overflow": null,
            "overflow_x": null,
            "overflow_y": null,
            "padding": null,
            "right": null,
            "top": null,
            "visibility": null,
            "width": null
          }
        },
        "a565c7b8120f45128da1d2ae4b490bbe": {
          "model_module": "@jupyter-widgets/base",
          "model_name": "LayoutModel",
          "model_module_version": "1.2.0",
          "state": {
            "_model_module": "@jupyter-widgets/base",
            "_model_module_version": "1.2.0",
            "_model_name": "LayoutModel",
            "_view_count": null,
            "_view_module": "@jupyter-widgets/base",
            "_view_module_version": "1.2.0",
            "_view_name": "LayoutView",
            "align_content": null,
            "align_items": null,
            "align_self": null,
            "border": null,
            "bottom": null,
            "display": null,
            "flex": null,
            "flex_flow": null,
            "grid_area": null,
            "grid_auto_columns": null,
            "grid_auto_flow": null,
            "grid_auto_rows": null,
            "grid_column": null,
            "grid_gap": null,
            "grid_row": null,
            "grid_template_areas": null,
            "grid_template_columns": null,
            "grid_template_rows": null,
            "height": null,
            "justify_content": null,
            "justify_items": null,
            "left": null,
            "margin": null,
            "max_height": null,
            "max_width": null,
            "min_height": null,
            "min_width": null,
            "object_fit": null,
            "object_position": null,
            "order": null,
            "overflow": null,
            "overflow_x": null,
            "overflow_y": null,
            "padding": null,
            "right": null,
            "top": null,
            "visibility": null,
            "width": null
          }
        },
        "4c96a4c6112f45a38d3ae56345f210a4": {
          "model_module": "@jupyter-widgets/controls",
          "model_name": "DescriptionStyleModel",
          "model_module_version": "1.5.0",
          "state": {
            "_model_module": "@jupyter-widgets/controls",
            "_model_module_version": "1.5.0",
            "_model_name": "DescriptionStyleModel",
            "_view_count": null,
            "_view_module": "@jupyter-widgets/base",
            "_view_module_version": "1.2.0",
            "_view_name": "StyleView",
            "description_width": ""
          }
        },
        "99721a9af82441fb896322de7c762d1f": {
          "model_module": "@jupyter-widgets/base",
          "model_name": "LayoutModel",
          "model_module_version": "1.2.0",
          "state": {
            "_model_module": "@jupyter-widgets/base",
            "_model_module_version": "1.2.0",
            "_model_name": "LayoutModel",
            "_view_count": null,
            "_view_module": "@jupyter-widgets/base",
            "_view_module_version": "1.2.0",
            "_view_name": "LayoutView",
            "align_content": null,
            "align_items": null,
            "align_self": null,
            "border": null,
            "bottom": null,
            "display": null,
            "flex": null,
            "flex_flow": null,
            "grid_area": null,
            "grid_auto_columns": null,
            "grid_auto_flow": null,
            "grid_auto_rows": null,
            "grid_column": null,
            "grid_gap": null,
            "grid_row": null,
            "grid_template_areas": null,
            "grid_template_columns": null,
            "grid_template_rows": null,
            "height": null,
            "justify_content": null,
            "justify_items": null,
            "left": null,
            "margin": null,
            "max_height": null,
            "max_width": null,
            "min_height": null,
            "min_width": null,
            "object_fit": null,
            "object_position": null,
            "order": null,
            "overflow": null,
            "overflow_x": null,
            "overflow_y": null,
            "padding": null,
            "right": null,
            "top": null,
            "visibility": null,
            "width": null
          }
        },
        "541e9744208a428a962e5167d486e148": {
          "model_module": "@jupyter-widgets/controls",
          "model_name": "ProgressStyleModel",
          "model_module_version": "1.5.0",
          "state": {
            "_model_module": "@jupyter-widgets/controls",
            "_model_module_version": "1.5.0",
            "_model_name": "ProgressStyleModel",
            "_view_count": null,
            "_view_module": "@jupyter-widgets/base",
            "_view_module_version": "1.2.0",
            "_view_name": "StyleView",
            "bar_color": null,
            "description_width": ""
          }
        },
        "304e1600dc274521b9af1e028691c87b": {
          "model_module": "@jupyter-widgets/base",
          "model_name": "LayoutModel",
          "model_module_version": "1.2.0",
          "state": {
            "_model_module": "@jupyter-widgets/base",
            "_model_module_version": "1.2.0",
            "_model_name": "LayoutModel",
            "_view_count": null,
            "_view_module": "@jupyter-widgets/base",
            "_view_module_version": "1.2.0",
            "_view_name": "LayoutView",
            "align_content": null,
            "align_items": null,
            "align_self": null,
            "border": null,
            "bottom": null,
            "display": null,
            "flex": null,
            "flex_flow": null,
            "grid_area": null,
            "grid_auto_columns": null,
            "grid_auto_flow": null,
            "grid_auto_rows": null,
            "grid_column": null,
            "grid_gap": null,
            "grid_row": null,
            "grid_template_areas": null,
            "grid_template_columns": null,
            "grid_template_rows": null,
            "height": null,
            "justify_content": null,
            "justify_items": null,
            "left": null,
            "margin": null,
            "max_height": null,
            "max_width": null,
            "min_height": null,
            "min_width": null,
            "object_fit": null,
            "object_position": null,
            "order": null,
            "overflow": null,
            "overflow_x": null,
            "overflow_y": null,
            "padding": null,
            "right": null,
            "top": null,
            "visibility": null,
            "width": null
          }
        },
        "384a72257b844b8b9d27bbd2cb321c72": {
          "model_module": "@jupyter-widgets/controls",
          "model_name": "DescriptionStyleModel",
          "model_module_version": "1.5.0",
          "state": {
            "_model_module": "@jupyter-widgets/controls",
            "_model_module_version": "1.5.0",
            "_model_name": "DescriptionStyleModel",
            "_view_count": null,
            "_view_module": "@jupyter-widgets/base",
            "_view_module_version": "1.2.0",
            "_view_name": "StyleView",
            "description_width": ""
          }
        }
      }
    }
  },
  "cells": [
    {
      "cell_type": "markdown",
      "metadata": {
        "id": "view-in-github",
        "colab_type": "text"
      },
      "source": [
        "<a href=\"https://colab.research.google.com/github/Sarthak9504/SY-Sem1-CourseProjects/blob/EDAI-3/Marathi.ipynb\" target=\"_parent\"><img src=\"https://colab.research.google.com/assets/colab-badge.svg\" alt=\"Open In Colab\"/></a>"
      ]
    },
    {
      "cell_type": "code",
      "source": [
        "import pandas as pd\n",
        "import numpy as np\n",
        "from sklearn.metrics import confusion_matrix, classification_report, f1_score\n",
        "from keras.preprocessing.text import Tokenizer\n",
        "from keras.utils import pad_sequences\n",
        "from keras.models import Sequential\n",
        "from keras import layers\n",
        "from sklearn.model_selection import train_test_split\n",
        "from keras.utils.np_utils import to_categorical\n",
        "import tensorflow as tf\n",
        "import re\n",
        "from google.colab import drive\n",
        "from sklearn.model_selection import train_test_split"
      ],
      "metadata": {
        "id": "OgNtmdw5YW_6"
      },
      "execution_count": 154,
      "outputs": []
    },
    {
      "cell_type": "code",
      "source": [
        "df=pd.read_excel(\"/content/tweets-train-cleaned.xlsx\", index_col='Unnamed: 0')\n",
        "drive.mount('/content/drive')"
      ],
      "metadata": {
        "id": "cBxluuR6isSc",
        "colab": {
          "base_uri": "https://localhost:8080/"
        },
        "outputId": "e4805ccd-6936-45f7-ed7b-3381723d2d3a"
      },
      "execution_count": 155,
      "outputs": [
        {
          "output_type": "stream",
          "name": "stdout",
          "text": [
            "Drive already mounted at /content/drive; to attempt to forcibly remount, call drive.mount(\"/content/drive\", force_remount=True).\n"
          ]
        }
      ]
    },
    {
      "cell_type": "code",
      "source": [
        "\n",
        "df.loc[~df['tweet'].isnull()]"
      ],
      "metadata": {
        "id": "_gTmzkI1isVl",
        "colab": {
          "base_uri": "https://localhost:8080/",
          "height": 423
        },
        "outputId": "ab789440-b816-40eb-8431-ea133c5dc8b6"
      },
      "execution_count": 156,
      "outputs": [
        {
          "output_type": "execute_result",
          "data": {
            "text/plain": [
              "                                                   tweet  label\n",
              "0      ज्येष्ठ पत्रकार अनंत दीक्षित यां निधन वृत्त दु...     -1\n",
              "1      सर्वोच् न्ल निर्देश डावलून पुण पोलिस प्र आनंद ...     -1\n",
              "2      उद्ध ठाकर भाजपासोबत युत शिसैनिक अमान िश्ासघ फस...     -1\n",
              "3      आपल समाज खूप मोठ त्य घटक अंतर्भूत त या दिव्यां...      1\n",
              "4      बलात्कार बदल बलात्कार घेतल पाहिज म्हणणार सावरक...     -1\n",
              "...                                                  ...    ...\n",
              "12109  त्याचबरोबर काज व्यावसायिकां मागील कालावध व्हॅट...      1\n",
              "12110  सरकार कर्जमाफ योज लाग करुन सुमार वर्ष काळ उलटू...     -1\n",
              "12111  लोकश मतदार खऱ्य अर्थ सत्ताधार असत धमकािण अथ प्...     -1\n",
              "12112  छत्रपत शिवाज महाराज ंच् नाव शिवसेने स्थाप ंन श...     -1\n",
              "12113  संभाज भिड रोख अन्यथ महाराष्ट्र कठुआ – उन्नाव ह...     -1\n",
              "\n",
              "[12112 rows x 2 columns]"
            ],
            "text/html": [
              "\n",
              "\n",
              "  <div id=\"df-523919c6-2168-4691-b0f1-bc697ccbca16\">\n",
              "    <div class=\"colab-df-container\">\n",
              "      <div>\n",
              "<style scoped>\n",
              "    .dataframe tbody tr th:only-of-type {\n",
              "        vertical-align: middle;\n",
              "    }\n",
              "\n",
              "    .dataframe tbody tr th {\n",
              "        vertical-align: top;\n",
              "    }\n",
              "\n",
              "    .dataframe thead th {\n",
              "        text-align: right;\n",
              "    }\n",
              "</style>\n",
              "<table border=\"1\" class=\"dataframe\">\n",
              "  <thead>\n",
              "    <tr style=\"text-align: right;\">\n",
              "      <th></th>\n",
              "      <th>tweet</th>\n",
              "      <th>label</th>\n",
              "    </tr>\n",
              "  </thead>\n",
              "  <tbody>\n",
              "    <tr>\n",
              "      <th>0</th>\n",
              "      <td>ज्येष्ठ पत्रकार अनंत दीक्षित यां निधन वृत्त दु...</td>\n",
              "      <td>-1</td>\n",
              "    </tr>\n",
              "    <tr>\n",
              "      <th>1</th>\n",
              "      <td>सर्वोच् न्ल निर्देश डावलून पुण पोलिस प्र आनंद ...</td>\n",
              "      <td>-1</td>\n",
              "    </tr>\n",
              "    <tr>\n",
              "      <th>2</th>\n",
              "      <td>उद्ध ठाकर भाजपासोबत युत शिसैनिक अमान िश्ासघ फस...</td>\n",
              "      <td>-1</td>\n",
              "    </tr>\n",
              "    <tr>\n",
              "      <th>3</th>\n",
              "      <td>आपल समाज खूप मोठ त्य घटक अंतर्भूत त या दिव्यां...</td>\n",
              "      <td>1</td>\n",
              "    </tr>\n",
              "    <tr>\n",
              "      <th>4</th>\n",
              "      <td>बलात्कार बदल बलात्कार घेतल पाहिज म्हणणार सावरक...</td>\n",
              "      <td>-1</td>\n",
              "    </tr>\n",
              "    <tr>\n",
              "      <th>...</th>\n",
              "      <td>...</td>\n",
              "      <td>...</td>\n",
              "    </tr>\n",
              "    <tr>\n",
              "      <th>12109</th>\n",
              "      <td>त्याचबरोबर काज व्यावसायिकां मागील कालावध व्हॅट...</td>\n",
              "      <td>1</td>\n",
              "    </tr>\n",
              "    <tr>\n",
              "      <th>12110</th>\n",
              "      <td>सरकार कर्जमाफ योज लाग करुन सुमार वर्ष काळ उलटू...</td>\n",
              "      <td>-1</td>\n",
              "    </tr>\n",
              "    <tr>\n",
              "      <th>12111</th>\n",
              "      <td>लोकश मतदार खऱ्य अर्थ सत्ताधार असत धमकािण अथ प्...</td>\n",
              "      <td>-1</td>\n",
              "    </tr>\n",
              "    <tr>\n",
              "      <th>12112</th>\n",
              "      <td>छत्रपत शिवाज महाराज ंच् नाव शिवसेने स्थाप ंन श...</td>\n",
              "      <td>-1</td>\n",
              "    </tr>\n",
              "    <tr>\n",
              "      <th>12113</th>\n",
              "      <td>संभाज भिड रोख अन्यथ महाराष्ट्र कठुआ – उन्नाव ह...</td>\n",
              "      <td>-1</td>\n",
              "    </tr>\n",
              "  </tbody>\n",
              "</table>\n",
              "<p>12112 rows × 2 columns</p>\n",
              "</div>\n",
              "      <button class=\"colab-df-convert\" onclick=\"convertToInteractive('df-523919c6-2168-4691-b0f1-bc697ccbca16')\"\n",
              "              title=\"Convert this dataframe to an interactive table.\"\n",
              "              style=\"display:none;\">\n",
              "\n",
              "  <svg xmlns=\"http://www.w3.org/2000/svg\" height=\"24px\"viewBox=\"0 0 24 24\"\n",
              "       width=\"24px\">\n",
              "    <path d=\"M0 0h24v24H0V0z\" fill=\"none\"/>\n",
              "    <path d=\"M18.56 5.44l.94 2.06.94-2.06 2.06-.94-2.06-.94-.94-2.06-.94 2.06-2.06.94zm-11 1L8.5 8.5l.94-2.06 2.06-.94-2.06-.94L8.5 2.5l-.94 2.06-2.06.94zm10 10l.94 2.06.94-2.06 2.06-.94-2.06-.94-.94-2.06-.94 2.06-2.06.94z\"/><path d=\"M17.41 7.96l-1.37-1.37c-.4-.4-.92-.59-1.43-.59-.52 0-1.04.2-1.43.59L10.3 9.45l-7.72 7.72c-.78.78-.78 2.05 0 2.83L4 21.41c.39.39.9.59 1.41.59.51 0 1.02-.2 1.41-.59l7.78-7.78 2.81-2.81c.8-.78.8-2.07 0-2.86zM5.41 20L4 18.59l7.72-7.72 1.47 1.35L5.41 20z\"/>\n",
              "  </svg>\n",
              "      </button>\n",
              "\n",
              "\n",
              "\n",
              "    <div id=\"df-7ffcb874-018e-4364-866b-0d11be01a2cf\">\n",
              "      <button class=\"colab-df-quickchart\" onclick=\"quickchart('df-7ffcb874-018e-4364-866b-0d11be01a2cf')\"\n",
              "              title=\"Suggest charts.\"\n",
              "              style=\"display:none;\">\n",
              "\n",
              "<svg xmlns=\"http://www.w3.org/2000/svg\" height=\"24px\"viewBox=\"0 0 24 24\"\n",
              "     width=\"24px\">\n",
              "    <g>\n",
              "        <path d=\"M19 3H5c-1.1 0-2 .9-2 2v14c0 1.1.9 2 2 2h14c1.1 0 2-.9 2-2V5c0-1.1-.9-2-2-2zM9 17H7v-7h2v7zm4 0h-2V7h2v10zm4 0h-2v-4h2v4z\"/>\n",
              "    </g>\n",
              "</svg>\n",
              "      </button>\n",
              "    </div>\n",
              "\n",
              "<style>\n",
              "  .colab-df-quickchart {\n",
              "    background-color: #E8F0FE;\n",
              "    border: none;\n",
              "    border-radius: 50%;\n",
              "    cursor: pointer;\n",
              "    display: none;\n",
              "    fill: #1967D2;\n",
              "    height: 32px;\n",
              "    padding: 0 0 0 0;\n",
              "    width: 32px;\n",
              "  }\n",
              "\n",
              "  .colab-df-quickchart:hover {\n",
              "    background-color: #E2EBFA;\n",
              "    box-shadow: 0px 1px 2px rgba(60, 64, 67, 0.3), 0px 1px 3px 1px rgba(60, 64, 67, 0.15);\n",
              "    fill: #174EA6;\n",
              "  }\n",
              "\n",
              "  [theme=dark] .colab-df-quickchart {\n",
              "    background-color: #3B4455;\n",
              "    fill: #D2E3FC;\n",
              "  }\n",
              "\n",
              "  [theme=dark] .colab-df-quickchart:hover {\n",
              "    background-color: #434B5C;\n",
              "    box-shadow: 0px 1px 3px 1px rgba(0, 0, 0, 0.15);\n",
              "    filter: drop-shadow(0px 1px 2px rgba(0, 0, 0, 0.3));\n",
              "    fill: #FFFFFF;\n",
              "  }\n",
              "</style>\n",
              "\n",
              "    <script>\n",
              "      async function quickchart(key) {\n",
              "        const containerElement = document.querySelector('#' + key);\n",
              "        const charts = await google.colab.kernel.invokeFunction(\n",
              "            'suggestCharts', [key], {});\n",
              "      }\n",
              "    </script>\n",
              "\n",
              "      <script>\n",
              "\n",
              "function displayQuickchartButton(domScope) {\n",
              "  let quickchartButtonEl =\n",
              "    domScope.querySelector('#df-7ffcb874-018e-4364-866b-0d11be01a2cf button.colab-df-quickchart');\n",
              "  quickchartButtonEl.style.display =\n",
              "    google.colab.kernel.accessAllowed ? 'block' : 'none';\n",
              "}\n",
              "\n",
              "        displayQuickchartButton(document);\n",
              "      </script>\n",
              "      <style>\n",
              "    .colab-df-container {\n",
              "      display:flex;\n",
              "      flex-wrap:wrap;\n",
              "      gap: 12px;\n",
              "    }\n",
              "\n",
              "    .colab-df-convert {\n",
              "      background-color: #E8F0FE;\n",
              "      border: none;\n",
              "      border-radius: 50%;\n",
              "      cursor: pointer;\n",
              "      display: none;\n",
              "      fill: #1967D2;\n",
              "      height: 32px;\n",
              "      padding: 0 0 0 0;\n",
              "      width: 32px;\n",
              "    }\n",
              "\n",
              "    .colab-df-convert:hover {\n",
              "      background-color: #E2EBFA;\n",
              "      box-shadow: 0px 1px 2px rgba(60, 64, 67, 0.3), 0px 1px 3px 1px rgba(60, 64, 67, 0.15);\n",
              "      fill: #174EA6;\n",
              "    }\n",
              "\n",
              "    [theme=dark] .colab-df-convert {\n",
              "      background-color: #3B4455;\n",
              "      fill: #D2E3FC;\n",
              "    }\n",
              "\n",
              "    [theme=dark] .colab-df-convert:hover {\n",
              "      background-color: #434B5C;\n",
              "      box-shadow: 0px 1px 3px 1px rgba(0, 0, 0, 0.15);\n",
              "      filter: drop-shadow(0px 1px 2px rgba(0, 0, 0, 0.3));\n",
              "      fill: #FFFFFF;\n",
              "    }\n",
              "  </style>\n",
              "\n",
              "      <script>\n",
              "        const buttonEl =\n",
              "          document.querySelector('#df-523919c6-2168-4691-b0f1-bc697ccbca16 button.colab-df-convert');\n",
              "        buttonEl.style.display =\n",
              "          google.colab.kernel.accessAllowed ? 'block' : 'none';\n",
              "\n",
              "        async function convertToInteractive(key) {\n",
              "          const element = document.querySelector('#df-523919c6-2168-4691-b0f1-bc697ccbca16');\n",
              "          const dataTable =\n",
              "            await google.colab.kernel.invokeFunction('convertToInteractive',\n",
              "                                                     [key], {});\n",
              "          if (!dataTable) return;\n",
              "\n",
              "          const docLinkHtml = 'Like what you see? Visit the ' +\n",
              "            '<a target=\"_blank\" href=https://colab.research.google.com/notebooks/data_table.ipynb>data table notebook</a>'\n",
              "            + ' to learn more about interactive tables.';\n",
              "          element.innerHTML = '';\n",
              "          dataTable['output_type'] = 'display_data';\n",
              "          await google.colab.output.renderOutput(dataTable, element);\n",
              "          const docLink = document.createElement('div');\n",
              "          docLink.innerHTML = docLinkHtml;\n",
              "          element.appendChild(docLink);\n",
              "        }\n",
              "      </script>\n",
              "    </div>\n",
              "  </div>\n"
            ]
          },
          "metadata": {},
          "execution_count": 156
        }
      ]
    },
    {
      "cell_type": "code",
      "source": [
        "df.shape"
      ],
      "metadata": {
        "id": "Oyt-ARmhisYO",
        "colab": {
          "base_uri": "https://localhost:8080/"
        },
        "outputId": "1b7c70e2-0c88-4bcf-f05d-9af96a5f4137"
      },
      "execution_count": 157,
      "outputs": [
        {
          "output_type": "execute_result",
          "data": {
            "text/plain": [
              "(12114, 2)"
            ]
          },
          "metadata": {},
          "execution_count": 157
        }
      ]
    },
    {
      "cell_type": "code",
      "source": [
        "df.loc[~df['tweet'].isnull()]"
      ],
      "metadata": {
        "id": "Suo44s4sisbE",
        "colab": {
          "base_uri": "https://localhost:8080/",
          "height": 423
        },
        "outputId": "be391582-5d71-4140-a3fa-7290a42f8a8c"
      },
      "execution_count": 158,
      "outputs": [
        {
          "output_type": "execute_result",
          "data": {
            "text/plain": [
              "                                                   tweet  label\n",
              "0      ज्येष्ठ पत्रकार अनंत दीक्षित यां निधन वृत्त दु...     -1\n",
              "1      सर्वोच् न्ल निर्देश डावलून पुण पोलिस प्र आनंद ...     -1\n",
              "2      उद्ध ठाकर भाजपासोबत युत शिसैनिक अमान िश्ासघ फस...     -1\n",
              "3      आपल समाज खूप मोठ त्य घटक अंतर्भूत त या दिव्यां...      1\n",
              "4      बलात्कार बदल बलात्कार घेतल पाहिज म्हणणार सावरक...     -1\n",
              "...                                                  ...    ...\n",
              "12109  त्याचबरोबर काज व्यावसायिकां मागील कालावध व्हॅट...      1\n",
              "12110  सरकार कर्जमाफ योज लाग करुन सुमार वर्ष काळ उलटू...     -1\n",
              "12111  लोकश मतदार खऱ्य अर्थ सत्ताधार असत धमकािण अथ प्...     -1\n",
              "12112  छत्रपत शिवाज महाराज ंच् नाव शिवसेने स्थाप ंन श...     -1\n",
              "12113  संभाज भिड रोख अन्यथ महाराष्ट्र कठुआ – उन्नाव ह...     -1\n",
              "\n",
              "[12112 rows x 2 columns]"
            ],
            "text/html": [
              "\n",
              "\n",
              "  <div id=\"df-809f382e-8dcc-4bf4-9c75-97760dd3a8cd\">\n",
              "    <div class=\"colab-df-container\">\n",
              "      <div>\n",
              "<style scoped>\n",
              "    .dataframe tbody tr th:only-of-type {\n",
              "        vertical-align: middle;\n",
              "    }\n",
              "\n",
              "    .dataframe tbody tr th {\n",
              "        vertical-align: top;\n",
              "    }\n",
              "\n",
              "    .dataframe thead th {\n",
              "        text-align: right;\n",
              "    }\n",
              "</style>\n",
              "<table border=\"1\" class=\"dataframe\">\n",
              "  <thead>\n",
              "    <tr style=\"text-align: right;\">\n",
              "      <th></th>\n",
              "      <th>tweet</th>\n",
              "      <th>label</th>\n",
              "    </tr>\n",
              "  </thead>\n",
              "  <tbody>\n",
              "    <tr>\n",
              "      <th>0</th>\n",
              "      <td>ज्येष्ठ पत्रकार अनंत दीक्षित यां निधन वृत्त दु...</td>\n",
              "      <td>-1</td>\n",
              "    </tr>\n",
              "    <tr>\n",
              "      <th>1</th>\n",
              "      <td>सर्वोच् न्ल निर्देश डावलून पुण पोलिस प्र आनंद ...</td>\n",
              "      <td>-1</td>\n",
              "    </tr>\n",
              "    <tr>\n",
              "      <th>2</th>\n",
              "      <td>उद्ध ठाकर भाजपासोबत युत शिसैनिक अमान िश्ासघ फस...</td>\n",
              "      <td>-1</td>\n",
              "    </tr>\n",
              "    <tr>\n",
              "      <th>3</th>\n",
              "      <td>आपल समाज खूप मोठ त्य घटक अंतर्भूत त या दिव्यां...</td>\n",
              "      <td>1</td>\n",
              "    </tr>\n",
              "    <tr>\n",
              "      <th>4</th>\n",
              "      <td>बलात्कार बदल बलात्कार घेतल पाहिज म्हणणार सावरक...</td>\n",
              "      <td>-1</td>\n",
              "    </tr>\n",
              "    <tr>\n",
              "      <th>...</th>\n",
              "      <td>...</td>\n",
              "      <td>...</td>\n",
              "    </tr>\n",
              "    <tr>\n",
              "      <th>12109</th>\n",
              "      <td>त्याचबरोबर काज व्यावसायिकां मागील कालावध व्हॅट...</td>\n",
              "      <td>1</td>\n",
              "    </tr>\n",
              "    <tr>\n",
              "      <th>12110</th>\n",
              "      <td>सरकार कर्जमाफ योज लाग करुन सुमार वर्ष काळ उलटू...</td>\n",
              "      <td>-1</td>\n",
              "    </tr>\n",
              "    <tr>\n",
              "      <th>12111</th>\n",
              "      <td>लोकश मतदार खऱ्य अर्थ सत्ताधार असत धमकािण अथ प्...</td>\n",
              "      <td>-1</td>\n",
              "    </tr>\n",
              "    <tr>\n",
              "      <th>12112</th>\n",
              "      <td>छत्रपत शिवाज महाराज ंच् नाव शिवसेने स्थाप ंन श...</td>\n",
              "      <td>-1</td>\n",
              "    </tr>\n",
              "    <tr>\n",
              "      <th>12113</th>\n",
              "      <td>संभाज भिड रोख अन्यथ महाराष्ट्र कठुआ – उन्नाव ह...</td>\n",
              "      <td>-1</td>\n",
              "    </tr>\n",
              "  </tbody>\n",
              "</table>\n",
              "<p>12112 rows × 2 columns</p>\n",
              "</div>\n",
              "      <button class=\"colab-df-convert\" onclick=\"convertToInteractive('df-809f382e-8dcc-4bf4-9c75-97760dd3a8cd')\"\n",
              "              title=\"Convert this dataframe to an interactive table.\"\n",
              "              style=\"display:none;\">\n",
              "\n",
              "  <svg xmlns=\"http://www.w3.org/2000/svg\" height=\"24px\"viewBox=\"0 0 24 24\"\n",
              "       width=\"24px\">\n",
              "    <path d=\"M0 0h24v24H0V0z\" fill=\"none\"/>\n",
              "    <path d=\"M18.56 5.44l.94 2.06.94-2.06 2.06-.94-2.06-.94-.94-2.06-.94 2.06-2.06.94zm-11 1L8.5 8.5l.94-2.06 2.06-.94-2.06-.94L8.5 2.5l-.94 2.06-2.06.94zm10 10l.94 2.06.94-2.06 2.06-.94-2.06-.94-.94-2.06-.94 2.06-2.06.94z\"/><path d=\"M17.41 7.96l-1.37-1.37c-.4-.4-.92-.59-1.43-.59-.52 0-1.04.2-1.43.59L10.3 9.45l-7.72 7.72c-.78.78-.78 2.05 0 2.83L4 21.41c.39.39.9.59 1.41.59.51 0 1.02-.2 1.41-.59l7.78-7.78 2.81-2.81c.8-.78.8-2.07 0-2.86zM5.41 20L4 18.59l7.72-7.72 1.47 1.35L5.41 20z\"/>\n",
              "  </svg>\n",
              "      </button>\n",
              "\n",
              "\n",
              "\n",
              "    <div id=\"df-aa04eb63-9f96-4512-b350-a922bc4b286b\">\n",
              "      <button class=\"colab-df-quickchart\" onclick=\"quickchart('df-aa04eb63-9f96-4512-b350-a922bc4b286b')\"\n",
              "              title=\"Suggest charts.\"\n",
              "              style=\"display:none;\">\n",
              "\n",
              "<svg xmlns=\"http://www.w3.org/2000/svg\" height=\"24px\"viewBox=\"0 0 24 24\"\n",
              "     width=\"24px\">\n",
              "    <g>\n",
              "        <path d=\"M19 3H5c-1.1 0-2 .9-2 2v14c0 1.1.9 2 2 2h14c1.1 0 2-.9 2-2V5c0-1.1-.9-2-2-2zM9 17H7v-7h2v7zm4 0h-2V7h2v10zm4 0h-2v-4h2v4z\"/>\n",
              "    </g>\n",
              "</svg>\n",
              "      </button>\n",
              "    </div>\n",
              "\n",
              "<style>\n",
              "  .colab-df-quickchart {\n",
              "    background-color: #E8F0FE;\n",
              "    border: none;\n",
              "    border-radius: 50%;\n",
              "    cursor: pointer;\n",
              "    display: none;\n",
              "    fill: #1967D2;\n",
              "    height: 32px;\n",
              "    padding: 0 0 0 0;\n",
              "    width: 32px;\n",
              "  }\n",
              "\n",
              "  .colab-df-quickchart:hover {\n",
              "    background-color: #E2EBFA;\n",
              "    box-shadow: 0px 1px 2px rgba(60, 64, 67, 0.3), 0px 1px 3px 1px rgba(60, 64, 67, 0.15);\n",
              "    fill: #174EA6;\n",
              "  }\n",
              "\n",
              "  [theme=dark] .colab-df-quickchart {\n",
              "    background-color: #3B4455;\n",
              "    fill: #D2E3FC;\n",
              "  }\n",
              "\n",
              "  [theme=dark] .colab-df-quickchart:hover {\n",
              "    background-color: #434B5C;\n",
              "    box-shadow: 0px 1px 3px 1px rgba(0, 0, 0, 0.15);\n",
              "    filter: drop-shadow(0px 1px 2px rgba(0, 0, 0, 0.3));\n",
              "    fill: #FFFFFF;\n",
              "  }\n",
              "</style>\n",
              "\n",
              "    <script>\n",
              "      async function quickchart(key) {\n",
              "        const containerElement = document.querySelector('#' + key);\n",
              "        const charts = await google.colab.kernel.invokeFunction(\n",
              "            'suggestCharts', [key], {});\n",
              "      }\n",
              "    </script>\n",
              "\n",
              "      <script>\n",
              "\n",
              "function displayQuickchartButton(domScope) {\n",
              "  let quickchartButtonEl =\n",
              "    domScope.querySelector('#df-aa04eb63-9f96-4512-b350-a922bc4b286b button.colab-df-quickchart');\n",
              "  quickchartButtonEl.style.display =\n",
              "    google.colab.kernel.accessAllowed ? 'block' : 'none';\n",
              "}\n",
              "\n",
              "        displayQuickchartButton(document);\n",
              "      </script>\n",
              "      <style>\n",
              "    .colab-df-container {\n",
              "      display:flex;\n",
              "      flex-wrap:wrap;\n",
              "      gap: 12px;\n",
              "    }\n",
              "\n",
              "    .colab-df-convert {\n",
              "      background-color: #E8F0FE;\n",
              "      border: none;\n",
              "      border-radius: 50%;\n",
              "      cursor: pointer;\n",
              "      display: none;\n",
              "      fill: #1967D2;\n",
              "      height: 32px;\n",
              "      padding: 0 0 0 0;\n",
              "      width: 32px;\n",
              "    }\n",
              "\n",
              "    .colab-df-convert:hover {\n",
              "      background-color: #E2EBFA;\n",
              "      box-shadow: 0px 1px 2px rgba(60, 64, 67, 0.3), 0px 1px 3px 1px rgba(60, 64, 67, 0.15);\n",
              "      fill: #174EA6;\n",
              "    }\n",
              "\n",
              "    [theme=dark] .colab-df-convert {\n",
              "      background-color: #3B4455;\n",
              "      fill: #D2E3FC;\n",
              "    }\n",
              "\n",
              "    [theme=dark] .colab-df-convert:hover {\n",
              "      background-color: #434B5C;\n",
              "      box-shadow: 0px 1px 3px 1px rgba(0, 0, 0, 0.15);\n",
              "      filter: drop-shadow(0px 1px 2px rgba(0, 0, 0, 0.3));\n",
              "      fill: #FFFFFF;\n",
              "    }\n",
              "  </style>\n",
              "\n",
              "      <script>\n",
              "        const buttonEl =\n",
              "          document.querySelector('#df-809f382e-8dcc-4bf4-9c75-97760dd3a8cd button.colab-df-convert');\n",
              "        buttonEl.style.display =\n",
              "          google.colab.kernel.accessAllowed ? 'block' : 'none';\n",
              "\n",
              "        async function convertToInteractive(key) {\n",
              "          const element = document.querySelector('#df-809f382e-8dcc-4bf4-9c75-97760dd3a8cd');\n",
              "          const dataTable =\n",
              "            await google.colab.kernel.invokeFunction('convertToInteractive',\n",
              "                                                     [key], {});\n",
              "          if (!dataTable) return;\n",
              "\n",
              "          const docLinkHtml = 'Like what you see? Visit the ' +\n",
              "            '<a target=\"_blank\" href=https://colab.research.google.com/notebooks/data_table.ipynb>data table notebook</a>'\n",
              "            + ' to learn more about interactive tables.';\n",
              "          element.innerHTML = '';\n",
              "          dataTable['output_type'] = 'display_data';\n",
              "          await google.colab.output.renderOutput(dataTable, element);\n",
              "          const docLink = document.createElement('div');\n",
              "          docLink.innerHTML = docLinkHtml;\n",
              "          element.appendChild(docLink);\n",
              "        }\n",
              "      </script>\n",
              "    </div>\n",
              "  </div>\n"
            ]
          },
          "metadata": {},
          "execution_count": 158
        }
      ]
    },
    {
      "cell_type": "code",
      "source": [
        "df_v=pd.read_excel(\"/content/tweets-valid-cleaned.xlsx\", index_col='Unnamed: 0')"
      ],
      "metadata": {
        "id": "2EdJMGtQiseg"
      },
      "execution_count": 159,
      "outputs": []
    },
    {
      "cell_type": "code",
      "source": [
        "df_v.loc[~df_v['tweet'].isnull()]"
      ],
      "metadata": {
        "id": "Rah9F2wNj54T",
        "colab": {
          "base_uri": "https://localhost:8080/",
          "height": 423
        },
        "outputId": "f76a49c8-bb23-4146-afb1-4138c77cf3b5"
      },
      "execution_count": 160,
      "outputs": [
        {
          "output_type": "execute_result",
          "data": {
            "text/plain": [
              "                                                  tweet  label\n",
              "0     कोर काळ पंतप्रधान मा नरेंद्र मोदीज य समाज घटक ...      1\n",
              "1     पुण राष्ट्रसे दल अभ्सिक िभाग ंच् संयुक्त िद्यम...      1\n",
              "2     पुण क्रांत ज्योत कार्यक्रम जेष्ठ समाजवाद ने मा...      0\n",
              "3     आद्यक्रांतिकारक उमाजीराज नाईक य जयंतीनिमित्त व...      1\n",
              "4     महाराष्ट्र मुख्यमंत्र शपथ घेतल्याबद्दल शिवस पक...      1\n",
              "...                                                 ...    ...\n",
              "1495  पोलिसभरत प्रक्रिय जु निकषांनुसार व्व याबाबत मा...      1\n",
              "1496  निध उद्ध्वस्त कुटुंबांमधील मुल शिक्षण वापरल जा...      1\n",
              "1497  िकासा फक्त घोषणाबाज जाहिरातबाज राज्य जनते दिशा...      0\n",
              "1498  विधानसभेत राष्ट्रीय जनगण ओबीसीं इतर मागासवर्गी...      0\n",
              "1499  इंटरनॅशनल इन्स्टिट्यूट ऑफ स्पोर्टस्‌ मॅनेजमेंट...      1\n",
              "\n",
              "[1500 rows x 2 columns]"
            ],
            "text/html": [
              "\n",
              "\n",
              "  <div id=\"df-5397d427-7f80-4a4a-97c0-699b14e6604c\">\n",
              "    <div class=\"colab-df-container\">\n",
              "      <div>\n",
              "<style scoped>\n",
              "    .dataframe tbody tr th:only-of-type {\n",
              "        vertical-align: middle;\n",
              "    }\n",
              "\n",
              "    .dataframe tbody tr th {\n",
              "        vertical-align: top;\n",
              "    }\n",
              "\n",
              "    .dataframe thead th {\n",
              "        text-align: right;\n",
              "    }\n",
              "</style>\n",
              "<table border=\"1\" class=\"dataframe\">\n",
              "  <thead>\n",
              "    <tr style=\"text-align: right;\">\n",
              "      <th></th>\n",
              "      <th>tweet</th>\n",
              "      <th>label</th>\n",
              "    </tr>\n",
              "  </thead>\n",
              "  <tbody>\n",
              "    <tr>\n",
              "      <th>0</th>\n",
              "      <td>कोर काळ पंतप्रधान मा नरेंद्र मोदीज य समाज घटक ...</td>\n",
              "      <td>1</td>\n",
              "    </tr>\n",
              "    <tr>\n",
              "      <th>1</th>\n",
              "      <td>पुण राष्ट्रसे दल अभ्सिक िभाग ंच् संयुक्त िद्यम...</td>\n",
              "      <td>1</td>\n",
              "    </tr>\n",
              "    <tr>\n",
              "      <th>2</th>\n",
              "      <td>पुण क्रांत ज्योत कार्यक्रम जेष्ठ समाजवाद ने मा...</td>\n",
              "      <td>0</td>\n",
              "    </tr>\n",
              "    <tr>\n",
              "      <th>3</th>\n",
              "      <td>आद्यक्रांतिकारक उमाजीराज नाईक य जयंतीनिमित्त व...</td>\n",
              "      <td>1</td>\n",
              "    </tr>\n",
              "    <tr>\n",
              "      <th>4</th>\n",
              "      <td>महाराष्ट्र मुख्यमंत्र शपथ घेतल्याबद्दल शिवस पक...</td>\n",
              "      <td>1</td>\n",
              "    </tr>\n",
              "    <tr>\n",
              "      <th>...</th>\n",
              "      <td>...</td>\n",
              "      <td>...</td>\n",
              "    </tr>\n",
              "    <tr>\n",
              "      <th>1495</th>\n",
              "      <td>पोलिसभरत प्रक्रिय जु निकषांनुसार व्व याबाबत मा...</td>\n",
              "      <td>1</td>\n",
              "    </tr>\n",
              "    <tr>\n",
              "      <th>1496</th>\n",
              "      <td>निध उद्ध्वस्त कुटुंबांमधील मुल शिक्षण वापरल जा...</td>\n",
              "      <td>1</td>\n",
              "    </tr>\n",
              "    <tr>\n",
              "      <th>1497</th>\n",
              "      <td>िकासा फक्त घोषणाबाज जाहिरातबाज राज्य जनते दिशा...</td>\n",
              "      <td>0</td>\n",
              "    </tr>\n",
              "    <tr>\n",
              "      <th>1498</th>\n",
              "      <td>विधानसभेत राष्ट्रीय जनगण ओबीसीं इतर मागासवर्गी...</td>\n",
              "      <td>0</td>\n",
              "    </tr>\n",
              "    <tr>\n",
              "      <th>1499</th>\n",
              "      <td>इंटरनॅशनल इन्स्टिट्यूट ऑफ स्पोर्टस्‌ मॅनेजमेंट...</td>\n",
              "      <td>1</td>\n",
              "    </tr>\n",
              "  </tbody>\n",
              "</table>\n",
              "<p>1500 rows × 2 columns</p>\n",
              "</div>\n",
              "      <button class=\"colab-df-convert\" onclick=\"convertToInteractive('df-5397d427-7f80-4a4a-97c0-699b14e6604c')\"\n",
              "              title=\"Convert this dataframe to an interactive table.\"\n",
              "              style=\"display:none;\">\n",
              "\n",
              "  <svg xmlns=\"http://www.w3.org/2000/svg\" height=\"24px\"viewBox=\"0 0 24 24\"\n",
              "       width=\"24px\">\n",
              "    <path d=\"M0 0h24v24H0V0z\" fill=\"none\"/>\n",
              "    <path d=\"M18.56 5.44l.94 2.06.94-2.06 2.06-.94-2.06-.94-.94-2.06-.94 2.06-2.06.94zm-11 1L8.5 8.5l.94-2.06 2.06-.94-2.06-.94L8.5 2.5l-.94 2.06-2.06.94zm10 10l.94 2.06.94-2.06 2.06-.94-2.06-.94-.94-2.06-.94 2.06-2.06.94z\"/><path d=\"M17.41 7.96l-1.37-1.37c-.4-.4-.92-.59-1.43-.59-.52 0-1.04.2-1.43.59L10.3 9.45l-7.72 7.72c-.78.78-.78 2.05 0 2.83L4 21.41c.39.39.9.59 1.41.59.51 0 1.02-.2 1.41-.59l7.78-7.78 2.81-2.81c.8-.78.8-2.07 0-2.86zM5.41 20L4 18.59l7.72-7.72 1.47 1.35L5.41 20z\"/>\n",
              "  </svg>\n",
              "      </button>\n",
              "\n",
              "\n",
              "\n",
              "    <div id=\"df-0a025bd3-ed1c-483e-a855-3f286f21d041\">\n",
              "      <button class=\"colab-df-quickchart\" onclick=\"quickchart('df-0a025bd3-ed1c-483e-a855-3f286f21d041')\"\n",
              "              title=\"Suggest charts.\"\n",
              "              style=\"display:none;\">\n",
              "\n",
              "<svg xmlns=\"http://www.w3.org/2000/svg\" height=\"24px\"viewBox=\"0 0 24 24\"\n",
              "     width=\"24px\">\n",
              "    <g>\n",
              "        <path d=\"M19 3H5c-1.1 0-2 .9-2 2v14c0 1.1.9 2 2 2h14c1.1 0 2-.9 2-2V5c0-1.1-.9-2-2-2zM9 17H7v-7h2v7zm4 0h-2V7h2v10zm4 0h-2v-4h2v4z\"/>\n",
              "    </g>\n",
              "</svg>\n",
              "      </button>\n",
              "    </div>\n",
              "\n",
              "<style>\n",
              "  .colab-df-quickchart {\n",
              "    background-color: #E8F0FE;\n",
              "    border: none;\n",
              "    border-radius: 50%;\n",
              "    cursor: pointer;\n",
              "    display: none;\n",
              "    fill: #1967D2;\n",
              "    height: 32px;\n",
              "    padding: 0 0 0 0;\n",
              "    width: 32px;\n",
              "  }\n",
              "\n",
              "  .colab-df-quickchart:hover {\n",
              "    background-color: #E2EBFA;\n",
              "    box-shadow: 0px 1px 2px rgba(60, 64, 67, 0.3), 0px 1px 3px 1px rgba(60, 64, 67, 0.15);\n",
              "    fill: #174EA6;\n",
              "  }\n",
              "\n",
              "  [theme=dark] .colab-df-quickchart {\n",
              "    background-color: #3B4455;\n",
              "    fill: #D2E3FC;\n",
              "  }\n",
              "\n",
              "  [theme=dark] .colab-df-quickchart:hover {\n",
              "    background-color: #434B5C;\n",
              "    box-shadow: 0px 1px 3px 1px rgba(0, 0, 0, 0.15);\n",
              "    filter: drop-shadow(0px 1px 2px rgba(0, 0, 0, 0.3));\n",
              "    fill: #FFFFFF;\n",
              "  }\n",
              "</style>\n",
              "\n",
              "    <script>\n",
              "      async function quickchart(key) {\n",
              "        const containerElement = document.querySelector('#' + key);\n",
              "        const charts = await google.colab.kernel.invokeFunction(\n",
              "            'suggestCharts', [key], {});\n",
              "      }\n",
              "    </script>\n",
              "\n",
              "      <script>\n",
              "\n",
              "function displayQuickchartButton(domScope) {\n",
              "  let quickchartButtonEl =\n",
              "    domScope.querySelector('#df-0a025bd3-ed1c-483e-a855-3f286f21d041 button.colab-df-quickchart');\n",
              "  quickchartButtonEl.style.display =\n",
              "    google.colab.kernel.accessAllowed ? 'block' : 'none';\n",
              "}\n",
              "\n",
              "        displayQuickchartButton(document);\n",
              "      </script>\n",
              "      <style>\n",
              "    .colab-df-container {\n",
              "      display:flex;\n",
              "      flex-wrap:wrap;\n",
              "      gap: 12px;\n",
              "    }\n",
              "\n",
              "    .colab-df-convert {\n",
              "      background-color: #E8F0FE;\n",
              "      border: none;\n",
              "      border-radius: 50%;\n",
              "      cursor: pointer;\n",
              "      display: none;\n",
              "      fill: #1967D2;\n",
              "      height: 32px;\n",
              "      padding: 0 0 0 0;\n",
              "      width: 32px;\n",
              "    }\n",
              "\n",
              "    .colab-df-convert:hover {\n",
              "      background-color: #E2EBFA;\n",
              "      box-shadow: 0px 1px 2px rgba(60, 64, 67, 0.3), 0px 1px 3px 1px rgba(60, 64, 67, 0.15);\n",
              "      fill: #174EA6;\n",
              "    }\n",
              "\n",
              "    [theme=dark] .colab-df-convert {\n",
              "      background-color: #3B4455;\n",
              "      fill: #D2E3FC;\n",
              "    }\n",
              "\n",
              "    [theme=dark] .colab-df-convert:hover {\n",
              "      background-color: #434B5C;\n",
              "      box-shadow: 0px 1px 3px 1px rgba(0, 0, 0, 0.15);\n",
              "      filter: drop-shadow(0px 1px 2px rgba(0, 0, 0, 0.3));\n",
              "      fill: #FFFFFF;\n",
              "    }\n",
              "  </style>\n",
              "\n",
              "      <script>\n",
              "        const buttonEl =\n",
              "          document.querySelector('#df-5397d427-7f80-4a4a-97c0-699b14e6604c button.colab-df-convert');\n",
              "        buttonEl.style.display =\n",
              "          google.colab.kernel.accessAllowed ? 'block' : 'none';\n",
              "\n",
              "        async function convertToInteractive(key) {\n",
              "          const element = document.querySelector('#df-5397d427-7f80-4a4a-97c0-699b14e6604c');\n",
              "          const dataTable =\n",
              "            await google.colab.kernel.invokeFunction('convertToInteractive',\n",
              "                                                     [key], {});\n",
              "          if (!dataTable) return;\n",
              "\n",
              "          const docLinkHtml = 'Like what you see? Visit the ' +\n",
              "            '<a target=\"_blank\" href=https://colab.research.google.com/notebooks/data_table.ipynb>data table notebook</a>'\n",
              "            + ' to learn more about interactive tables.';\n",
              "          element.innerHTML = '';\n",
              "          dataTable['output_type'] = 'display_data';\n",
              "          await google.colab.output.renderOutput(dataTable, element);\n",
              "          const docLink = document.createElement('div');\n",
              "          docLink.innerHTML = docLinkHtml;\n",
              "          element.appendChild(docLink);\n",
              "        }\n",
              "      </script>\n",
              "    </div>\n",
              "  </div>\n"
            ]
          },
          "metadata": {},
          "execution_count": 160
        }
      ]
    },
    {
      "cell_type": "code",
      "source": [
        "df_v.shape"
      ],
      "metadata": {
        "id": "kR0FI5Hqisg3",
        "colab": {
          "base_uri": "https://localhost:8080/"
        },
        "outputId": "ce3c86e3-2938-4aeb-818b-ffd1960359ee"
      },
      "execution_count": 161,
      "outputs": [
        {
          "output_type": "execute_result",
          "data": {
            "text/plain": [
              "(1500, 2)"
            ]
          },
          "metadata": {},
          "execution_count": 161
        }
      ]
    },
    {
      "cell_type": "code",
      "source": [
        "df_t = pd.read_excel(\"/content/tweets-test-cleaned.xlsx\", index_col='Unnamed: 0')"
      ],
      "metadata": {
        "id": "hbChRdxgisjm"
      },
      "execution_count": 162,
      "outputs": []
    },
    {
      "cell_type": "code",
      "source": [
        "df_t.shape"
      ],
      "metadata": {
        "id": "fkax_o5hisoO",
        "colab": {
          "base_uri": "https://localhost:8080/"
        },
        "outputId": "1dc14762-4603-4c20-be7a-a0f4f96dcb7c"
      },
      "execution_count": 163,
      "outputs": [
        {
          "output_type": "execute_result",
          "data": {
            "text/plain": [
              "(2250, 2)"
            ]
          },
          "metadata": {},
          "execution_count": 163
        }
      ]
    },
    {
      "cell_type": "code",
      "source": [
        "max(df_t['tweet'].str.len())"
      ],
      "metadata": {
        "id": "B1jF_d0DisqD",
        "colab": {
          "base_uri": "https://localhost:8080/"
        },
        "outputId": "5041f418-617f-4e25-fc3b-5d73dd0f563c"
      },
      "execution_count": 164,
      "outputs": [
        {
          "output_type": "execute_result",
          "data": {
            "text/plain": [
              "240"
            ]
          },
          "metadata": {},
          "execution_count": 164
        }
      ]
    },
    {
      "cell_type": "code",
      "source": [
        "max(df_v['tweet'].str.len())"
      ],
      "metadata": {
        "id": "A3FswnH0istW",
        "colab": {
          "base_uri": "https://localhost:8080/"
        },
        "outputId": "cedebe5b-16c8-4109-9899-f5bffbd990d7"
      },
      "execution_count": 165,
      "outputs": [
        {
          "output_type": "execute_result",
          "data": {
            "text/plain": [
              "245"
            ]
          },
          "metadata": {},
          "execution_count": 165
        }
      ]
    },
    {
      "cell_type": "code",
      "source": [
        "num_negative_1 = (df['label'] == -1).sum()\n",
        "print(\"Number of data instances under label -1:\", num_negative_1)"
      ],
      "metadata": {
        "colab": {
          "base_uri": "https://localhost:8080/"
        },
        "id": "Uei5niPT8__C",
        "outputId": "c39b4ca1-ab14-40de-c07b-d314a14a8edb"
      },
      "execution_count": 190,
      "outputs": [
        {
          "output_type": "stream",
          "name": "stdout",
          "text": [
            "Number of data instances under label -1: 4038\n"
          ]
        }
      ]
    },
    {
      "cell_type": "code",
      "source": [
        "vocab_df=pd.concat([df_v['tweet'], df.loc[~df['tweet'].isnull(), 'tweet']], axis = 0)"
      ],
      "metadata": {
        "id": "CBKLdkyzuYow"
      },
      "execution_count": 166,
      "outputs": []
    },
    {
      "cell_type": "code",
      "source": [
        "vocab_df.isnull().sum()"
      ],
      "metadata": {
        "id": "2Ep9-onmYXD_",
        "colab": {
          "base_uri": "https://localhost:8080/"
        },
        "outputId": "4ddf1cd9-0aeb-4631-8d96-085cfc5f0325"
      },
      "execution_count": 167,
      "outputs": [
        {
          "output_type": "execute_result",
          "data": {
            "text/plain": [
              "0"
            ]
          },
          "metadata": {},
          "execution_count": 167
        }
      ]
    },
    {
      "cell_type": "code",
      "source": [
        "set2=set()\n",
        "for row in vocab_df.iteritems():\n",
        "  for words in row[1].split():\n",
        "    set2.add(words)\n",
        "len(set2)"
      ],
      "metadata": {
        "id": "8C4gmChhYXGY",
        "colab": {
          "base_uri": "https://localhost:8080/"
        },
        "outputId": "6d8846e2-c6df-4e44-cc42-0c86fae39730"
      },
      "execution_count": 168,
      "outputs": [
        {
          "output_type": "stream",
          "name": "stderr",
          "text": [
            "<ipython-input-168-c0937d06b7d9>:2: FutureWarning: iteritems is deprecated and will be removed in a future version. Use .items instead.\n",
            "  for row in vocab_df.iteritems():\n"
          ]
        },
        {
          "output_type": "execute_result",
          "data": {
            "text/plain": [
              "38045"
            ]
          },
          "metadata": {},
          "execution_count": 168
        }
      ]
    },
    {
      "cell_type": "code",
      "source": [
        "\n",
        "vocab_size=40000\n"
      ],
      "metadata": {
        "id": "AbEWI6OsYXIw"
      },
      "execution_count": 169,
      "outputs": []
    },
    {
      "cell_type": "code",
      "source": [
        "from collections import Counter\n",
        "def counter_word(text_col):\n",
        "  count=Counter()\n",
        "  for text in text_col.values:\n",
        "    for word in text.split():\n",
        "      count[word]+=1\n",
        "  return count"
      ],
      "metadata": {
        "id": "zGH6saApYXKr"
      },
      "execution_count": 170,
      "outputs": []
    },
    {
      "cell_type": "code",
      "source": [
        "\n",
        "counter = counter_word(vocab_df)\n",
        "\n",
        "len(counter)\n"
      ],
      "metadata": {
        "id": "hoDacA6uk6xb",
        "colab": {
          "base_uri": "https://localhost:8080/"
        },
        "outputId": "4b97a8c0-f6dc-4da5-83f9-4701da23da83"
      },
      "execution_count": 171,
      "outputs": [
        {
          "output_type": "execute_result",
          "data": {
            "text/plain": [
              "38045"
            ]
          },
          "metadata": {},
          "execution_count": 171
        }
      ]
    },
    {
      "cell_type": "code",
      "source": [
        "df = df[df['label'] != 2]\n",
        "df_v = df_v[df_v['label'] != 2]\n",
        "df_t = df_t[df_t['label'] != 2]"
      ],
      "metadata": {
        "id": "66Z0qPCs2dLu"
      },
      "execution_count": 172,
      "outputs": []
    },
    {
      "cell_type": "code",
      "source": [
        "\n",
        "from tensorflow.keras.preprocessing.text import Tokenizer\n",
        "tokinizer=Tokenizer(num_words=40000)\n",
        "tokinizer.fit_on_texts(df.loc[~df['tweet'].isnull(), 'tweet'])"
      ],
      "metadata": {
        "id": "zuDCbZOK47wm"
      },
      "execution_count": 173,
      "outputs": []
    },
    {
      "cell_type": "code",
      "source": [
        "\n",
        "word_index = tokinizer.word_index"
      ],
      "metadata": {
        "id": "qSjzzi2o47zb"
      },
      "execution_count": 174,
      "outputs": []
    },
    {
      "cell_type": "code",
      "source": [
        "word_index"
      ],
      "metadata": {
        "id": "FdAsqw4d4714",
        "colab": {
          "base_uri": "https://localhost:8080/"
        },
        "outputId": "2c01ad19-5bd1-4a38-962d-dc437b8a60c3"
      },
      "execution_count": 175,
      "outputs": [
        {
          "output_type": "execute_result",
          "data": {
            "text/plain": [
              "{'य': 1,\n",
              " 'सरकार': 2,\n",
              " 'महाराष्ट्र': 3,\n",
              " 'यां': 4,\n",
              " 'आ': 5,\n",
              " 'राज्य': 6,\n",
              " '…': 7,\n",
              " 'करण्य': 8,\n",
              " 'भाजप': 9,\n",
              " 'कर': 10,\n",
              " 'काँग्रेस': 11,\n",
              " 'करत': 12,\n",
              " 'शुभेच्छ': 13,\n",
              " 'त्य': 14,\n",
              " 'त': 15,\n",
              " 'राज': 16,\n",
              " 'घेतल': 17,\n",
              " 'उपस्थित': 18,\n",
              " 'दि': 19,\n",
              " 'मा': 20,\n",
              " 'देश': 21,\n",
              " 'पक्ष': 22,\n",
              " 'अभिवादन': 23,\n",
              " 'सुर': 24,\n",
              " 'मुंबई': 25,\n",
              " 'विनम्र': 26,\n",
              " 'श्र': 27,\n",
              " 'मुख्यमंत्र': 28,\n",
              " 'भेट': 29,\n",
              " 'मराठ': 30,\n",
              " 'करणार': 31,\n",
              " 'या': 32,\n",
              " 'शेतकर': 33,\n",
              " 'शेतकऱ्य': 34,\n",
              " 'वर्ष': 35,\n",
              " 'जन': 36,\n",
              " 'ने': 37,\n",
              " 'हार्दिक': 38,\n",
              " 'श्रद्धांजल': 39,\n",
              " 'माज': 40,\n",
              " 'निर्णय': 41,\n",
              " 'सर्व': 42,\n",
              " 'लोक': 43,\n",
              " 'मदत': 44,\n",
              " 'मंत्र': 45,\n",
              " 'ना': 46,\n",
              " 'अस': 47,\n",
              " 'असत': 48,\n",
              " 'माझ': 49,\n",
              " 'च्य': 50,\n",
              " 'मागण': 51,\n",
              " 'केंद्र': 52,\n",
              " 'पाहिज': 53,\n",
              " 'मोद': 54,\n",
              " 'महाराज': 55,\n",
              " 'प्रश्न': 56,\n",
              " 'साहेब': 57,\n",
              " 'राष्ट्रवाद': 58,\n",
              " 'अश': 59,\n",
              " 'चर्': 60,\n",
              " 'काळ': 61,\n",
              " 'भावपूर्ण': 62,\n",
              " 'भाग': 63,\n",
              " 'करण': 64,\n",
              " 'समाज': 65,\n",
              " 'अध्यक्ष': 66,\n",
              " 'घेत': 67,\n",
              " 'कोर': 68,\n",
              " 'मात्र': 69,\n",
              " 'बैठक': 70,\n",
              " 'मोठ': 71,\n",
              " 'जिल्ह्य': 72,\n",
              " 'पुण': 73,\n",
              " 'माझ्य': 74,\n",
              " 'कराव': 75,\n",
              " 'ंन': 76,\n",
              " 'निधन': 77,\n",
              " 'भारत': 78,\n",
              " 'देण्य': 79,\n",
              " 'योज': 80,\n",
              " 'जाहीर': 81,\n",
              " 'अभिनंदन': 82,\n",
              " 'ज्येष्ठ': 83,\n",
              " 'मध्य': 84,\n",
              " 'चे': 85,\n",
              " 'त्ं': 86,\n",
              " 'भारतीय': 87,\n",
              " 'जिल्ह': 88,\n",
              " 'अधिक': 89,\n",
              " 'सहकार': 90,\n",
              " 'यावेळ': 91,\n",
              " 'विचार': 92,\n",
              " 'आयोजित': 93,\n",
              " 'दिल': 94,\n",
              " 'विरोध': 95,\n",
              " 'आमदार': 96,\n",
              " 'सहभाग': 97,\n",
              " 'विकास': 98,\n",
              " 'े': 99,\n",
              " 'लक्ष': 100,\n",
              " 'प्रयत्न': 101,\n",
              " 'अधिकार': 102,\n",
              " 'गेल': 103,\n",
              " 'घर': 104,\n",
              " 'महिल': 105,\n",
              " 'क्षेत्र': 106,\n",
              " 'शासन': 107,\n",
              " 'पंतप्रधान': 108,\n",
              " 'शिक्षण': 109,\n",
              " 'सामाजिक': 110,\n",
              " 'ला': 111,\n",
              " 'गरज': 112,\n",
              " 'के': 113,\n",
              " 'ा': 114,\n",
              " 'आम': 115,\n",
              " 'संवाद': 116,\n",
              " 'खासदार': 117,\n",
              " 'बैठ': 118,\n",
              " 'देत': 119,\n",
              " 'दिवस': 120,\n",
              " 'मन': 121,\n",
              " 'छत्रपत': 122,\n",
              " 'ं': 123,\n",
              " 'देणार': 124,\n",
              " 'पूर्ण': 125,\n",
              " 'उमेदवार': 126,\n",
              " 'दिन': 127,\n",
              " 'आज': 128,\n",
              " 'ज्य': 129,\n",
              " 'पार': 130,\n",
              " 'लोकसभ': 131,\n",
              " 'पत्रकार': 132,\n",
              " 'कार्यक्रम': 133,\n",
              " 'मतदारसंघ': 134,\n",
              " 'करण्': 135,\n",
              " 'ंच्': 136,\n",
              " 'कोण': 137,\n",
              " 'पुन्ह': 138,\n",
              " 'करुन': 139,\n",
              " 'ठाकर': 140,\n",
              " 'विविध': 141,\n",
              " 'माध्यम': 142,\n",
              " 'च': 143,\n",
              " 'देऊन': 144,\n",
              " 'नागरिक': 145,\n",
              " 'नय': 146,\n",
              " 'त्': 147,\n",
              " 'दुष्काळ': 148,\n",
              " 'वेळ': 149,\n",
              " 'साठ': 150,\n",
              " 'जयंतीनिमित्त': 151,\n",
              " 'संघ': 152,\n",
              " 'परिषद': 153,\n",
              " 'निध': 154,\n",
              " 'होईल': 155,\n",
              " 'आपल': 156,\n",
              " 'जबाबदार': 157,\n",
              " 'युवक': 158,\n",
              " 'पाण': 159,\n",
              " 'शहर': 160,\n",
              " 'रोज': 161,\n",
              " 'इतर': 162,\n",
              " 'निर्माण': 163,\n",
              " 'कित': 164,\n",
              " 'साधल': 165,\n",
              " 'अतिशय': 166,\n",
              " 'असेल': 167,\n",
              " 'राष्ट्रीय': 168,\n",
              " 'हात': 169,\n",
              " 'गे': 170,\n",
              " 'आंदोलन': 171,\n",
              " 'कर्जमाफ': 172,\n",
              " 'प्रदेश': 173,\n",
              " 'संस्थ': 174,\n",
              " 'ची': 175,\n",
              " 'प्रत्येक': 176,\n",
              " 'काम': 177,\n",
              " 'लाग': 178,\n",
              " 'निवडण': 179,\n",
              " 'सत्': 180,\n",
              " 'चा': 181,\n",
              " 'सभ': 182,\n",
              " 'उत्तम': 183,\n",
              " 'पवार': 184,\n",
              " 'निमित्त': 185,\n",
              " 'संपूर्ण': 186,\n",
              " 'पुढ': 187,\n",
              " 'केलं': 188,\n",
              " 'राह': 189,\n",
              " 'थोर': 190,\n",
              " 'स्व': 191,\n",
              " 'उत्तर': 192,\n",
              " 'शिवाज': 193,\n",
              " 'त्यां': 194,\n",
              " 'आंबेडकर': 195,\n",
              " 'उपलब्ध': 196,\n",
              " 'सरकारल': 197,\n",
              " 'आरोग्य': 198,\n",
              " 'कार्यकर्': 199,\n",
              " 'आर्थिक': 200,\n",
              " 'खूप': 201,\n",
              " 'भूमिक': 202,\n",
              " 'जे': 203,\n",
              " 'लाभ': 204,\n",
              " 'गाव': 205,\n",
              " 'कोरोन': 206,\n",
              " 'मुख्यमंत्र्य': 207,\n",
              " 'विधानसभ': 208,\n",
              " 'गांध': 209,\n",
              " 'आभार': 210,\n",
              " 'वा': 211,\n",
              " 'रुपय': 212,\n",
              " 'खा': 213,\n",
              " 'योग्य': 214,\n",
              " 'करण्या': 215,\n",
              " 'कामगार': 216,\n",
              " 'आत': 217,\n",
              " 'आघाड': 218,\n",
              " 'बंद': 219,\n",
              " 'नाव': 220,\n",
              " 'सुद्ध': 221,\n",
              " 'आढाव': 222,\n",
              " 'करण्त': 223,\n",
              " 'होत': 224,\n",
              " 'तालुक्य': 225,\n",
              " 'सू': 226,\n",
              " 'बाब': 227,\n",
              " 'नुकसान': 228,\n",
              " 'लवकर': 229,\n",
              " 'जयंत': 230,\n",
              " 'हो': 231,\n",
              " 'केवळ': 232,\n",
              " 'संकट': 233,\n",
              " 'असल्य': 234,\n",
              " 'सर्': 235,\n",
              " 'आहोत': 236,\n",
              " 'पोलिस': 237,\n",
              " 'कस': 238,\n",
              " 'असं': 239,\n",
              " 'कध': 240,\n",
              " 'सरर': 241,\n",
              " 'परिस्थित': 242,\n",
              " 'करीत': 243,\n",
              " 'मिळाल': 244,\n",
              " 'पाहण': 245,\n",
              " 'येईल': 246,\n",
              " 'आरक्षण': 247,\n",
              " 'अत्यंत': 248,\n",
              " 'चव्हाण': 249,\n",
              " 'शेट्ट': 250,\n",
              " 'आवश्यक': 251,\n",
              " 'उभ': 252,\n",
              " 'पोलीस': 253,\n",
              " 'केंद्रीय': 254,\n",
              " 'तातड': 255,\n",
              " 'विभाग': 256,\n",
              " 'देखील': 257,\n",
              " 'आनंद': 258,\n",
              " 'कारवाई': 259,\n",
              " 'मिळ': 260,\n",
              " 'मोठ्य': 261,\n",
              " 'प्रकल्प': 262,\n",
              " 'मार्ग': 263,\n",
              " 'तयार': 264,\n",
              " 'व्यक्त': 265,\n",
              " 'कार्य': 266,\n",
              " 'ही': 267,\n",
              " 'योगदान': 268,\n",
              " 'आदरणीय': 269,\n",
              " 'कृष': 270,\n",
              " 'विजय': 271,\n",
              " 'वत': 272,\n",
              " 'प्रचंड': 273,\n",
              " 'तुम': 274,\n",
              " 'घेण्य': 275,\n",
              " 'नाशिक': 276,\n",
              " 'सांगल': 277,\n",
              " 'कोल्हापूर': 278,\n",
              " 'जाग': 279,\n",
              " 'भाव': 280,\n",
              " 'नक': 281,\n",
              " 'शकत': 282,\n",
              " 'घोषण': 283,\n",
              " 'वाढदिवस': 284,\n",
              " 'उपस्थितीत': 285,\n",
              " 'घट': 286,\n",
              " 'मत': 287,\n",
              " 'नाहीत': 288,\n",
              " 'नरेंद्र': 289,\n",
              " 'अजून': 290,\n",
              " 'हव': 291,\n",
              " 'कायम': 292,\n",
              " 'प्रमुख': 293,\n",
              " 'बाबासाहेब': 294,\n",
              " 'विनंत': 295,\n",
              " 'पूर्वीपेक्ष': 296,\n",
              " 'मित्र': 297,\n",
              " 'वर': 298,\n",
              " 'प्रार्थ': 299,\n",
              " 'चौकश': 300,\n",
              " 'केल्य': 301,\n",
              " 'नागपूर': 302,\n",
              " 'ठिकाण': 303,\n",
              " 'विश्वास': 304,\n",
              " 'मग': 305,\n",
              " 'पुरस्कार': 306,\n",
              " 'बारामत': 307,\n",
              " 'द्य': 308,\n",
              " 'झाल': 309,\n",
              " 'कर्ज': 310,\n",
              " 'च्': 311,\n",
              " 'कॉंग्रेस': 312,\n",
              " 'शेतकऱ्ं': 313,\n",
              " 'नव': 314,\n",
              " 'जा': 315,\n",
              " 'मंडळ': 316,\n",
              " 'दे': 317,\n",
              " 'न्याय': 318,\n",
              " 'उद्योग': 319,\n",
              " 'तरुण': 320,\n",
              " 'भारतरत्न': 321,\n",
              " 'निषेध': 322,\n",
              " 'समित': 323,\n",
              " 'साखर': 324,\n",
              " 'पैस': 325,\n",
              " 'भाष': 326,\n",
              " 'परिवर्तन': 327,\n",
              " 'पदाधिकार': 328,\n",
              " 'काळज': 329,\n",
              " 'निवडणूक': 330,\n",
              " 'स्पष्ट': 331,\n",
              " 'असल': 332,\n",
              " 'फक्त': 333,\n",
              " 'फडणवीस': 334,\n",
              " 'जनतेल': 335,\n",
              " 'पह': 336,\n",
              " 'मुंबईत': 337,\n",
              " 'पडल': 338,\n",
              " 'मान': 339,\n",
              " 'मराष्ट्र': 340,\n",
              " 'लोकश': 341,\n",
              " 'खर': 342,\n",
              " 'राहिल': 343,\n",
              " 'विद्यार्थ्य': 344,\n",
              " 'शिवस': 345,\n",
              " 'सेव': 346,\n",
              " 'जाईल': 347,\n",
              " 'कार्यकर्त्य': 348,\n",
              " 'रोजगार': 349,\n",
              " 'शेत': 350,\n",
              " 'होऊ': 351,\n",
              " 'रा': 352,\n",
              " 'बँक': 353,\n",
              " 'संघट': 354,\n",
              " 'मतदार': 355,\n",
              " 'दिल्य': 356,\n",
              " 'मनः': 357,\n",
              " 'वाट': 358,\n",
              " 'पत्र': 359,\n",
              " 'जयंतीद': 360,\n",
              " 'राष्ट्राद': 361,\n",
              " 'कार्यालय': 362,\n",
              " 'से': 363,\n",
              " 'अर्थ': 364,\n",
              " 'जात': 365,\n",
              " 'ये': 366,\n",
              " 'वाढ': 367,\n",
              " 'काल': 368,\n",
              " 'त्ंच्': 369,\n",
              " 'सोबत': 370,\n",
              " 'आदेश': 371,\n",
              " 'बीड': 372,\n",
              " 'यात्र': 373,\n",
              " 'राज्': 374,\n",
              " 'गंभीर': 375,\n",
              " 'दुःख': 376,\n",
              " 'रेल्व': 377,\n",
              " 'जाऊन': 378,\n",
              " 'दर्शन': 379,\n",
              " 'कराय': 380,\n",
              " 'दाखल': 381,\n",
              " 'देण': 382,\n",
              " 'माझ्': 383,\n",
              " 'ग्रामीण': 384,\n",
              " 'जर': 385,\n",
              " 'प्रचार': 386,\n",
              " 'दुर्दैव': 387,\n",
              " 'स्वागत': 388,\n",
              " 'कुटुंब': 389,\n",
              " 'प्रमाण': 390,\n",
              " 'शाह': 391,\n",
              " 'लेख': 392,\n",
              " 'याबाबत': 393,\n",
              " 'पुण्य': 394,\n",
              " 'आद': 395,\n",
              " 'म्हणत': 396,\n",
              " 'नेत्य': 397,\n",
              " 'जाणार': 398,\n",
              " 'झालेल': 399,\n",
              " 'पाह': 400,\n",
              " 'न्यायालय': 401,\n",
              " 'प्रेम': 402,\n",
              " 'दर': 403,\n",
              " 'राज्यपाल': 404,\n",
              " 'संयुक्त': 405,\n",
              " 'एक': 406,\n",
              " 'पा': 407,\n",
              " 'मुल': 408,\n",
              " 'याेळ': 409,\n",
              " 'रुग्ण': 410,\n",
              " 'दिस': 411,\n",
              " 'आदरांजल': 412,\n",
              " 'जीवन': 413,\n",
              " 'संबंधित': 414,\n",
              " 'संध': 415,\n",
              " 'आलेल्य': 416,\n",
              " 'चाल': 417,\n",
              " 'फु': 418,\n",
              " 'टक्क': 419,\n",
              " 'शब्द': 420,\n",
              " 'नवीन': 421,\n",
              " 'अर्': 422,\n",
              " 'केलेल': 423,\n",
              " 'संत': 424,\n",
              " 'पड': 425,\n",
              " 'समृद्ध': 426,\n",
              " 'शास': 427,\n",
              " 'महत्त्व': 428,\n",
              " 'द्याव': 429,\n",
              " 'रस्': 430,\n",
              " 'आवाहन': 431,\n",
              " 'व्य': 432,\n",
              " 'भापूर्ण': 433,\n",
              " 'साहित्य': 434,\n",
              " 'लागेल': 435,\n",
              " 'शांत': 436,\n",
              " 'शिक्षक': 437,\n",
              " 'प्रशासन': 438,\n",
              " 'अधिकाऱ्य': 439,\n",
              " 'पुढील': 440,\n",
              " 'जि': 441,\n",
              " 'व्हाव': 442,\n",
              " 'प्रकार': 443,\n",
              " 'उद्घाटन': 444,\n",
              " 'िभाग': 445,\n",
              " 'सकाळ': 446,\n",
              " 'हक्क': 447,\n",
              " 'जिल्ह्': 448,\n",
              " 'देशमुख': 449,\n",
              " 'झाल्य': 450,\n",
              " 'आत्महत्य': 451,\n",
              " 'युक': 452,\n",
              " 'संपर्क': 453,\n",
              " 'प्रकरण': 454,\n",
              " 'स्वतः': 455,\n",
              " 'सदस्य': 456,\n",
              " 'आयुष्य': 457,\n",
              " 'नांदेड': 458,\n",
              " 'अन्य': 459,\n",
              " 'परिसर': 460,\n",
              " 'माग': 461,\n",
              " 'स्थानिक': 462,\n",
              " 'मुख्य': 463,\n",
              " 'माफ': 464,\n",
              " 'इतिहास': 465,\n",
              " 'सामान्य': 466,\n",
              " 'बदल': 467,\n",
              " 'संघर्ष': 468,\n",
              " 'घेणार': 469,\n",
              " 'संकल्प': 470,\n",
              " 'येण': 471,\n",
              " 'स': 472,\n",
              " 'कुठ': 473,\n",
              " 'सभागृह': 474,\n",
              " 'भ्रष्टाचार': 475,\n",
              " 'जम': 476,\n",
              " 'साजर': 477,\n",
              " 'जिल्हाधिकार': 478,\n",
              " 'अधिवेशन': 479,\n",
              " 'संविधान': 480,\n",
              " 'जय': 481,\n",
              " 'कोकण': 482,\n",
              " 'थेट': 483,\n",
              " 'निर्देश': 484,\n",
              " 'मोदीज': 485,\n",
              " 'अडचण': 486,\n",
              " 'कश': 487,\n",
              " 'संबोधित': 488,\n",
              " 'हा': 489,\n",
              " 'मधील': 490,\n",
              " 'महात्म': 491,\n",
              " 'दिसत': 492,\n",
              " 'नव्ह': 493,\n",
              " 'आरोप': 494,\n",
              " 'नियोजन': 495,\n",
              " 'मंत्रालय': 496,\n",
              " 'खर्': 497,\n",
              " 'नक्': 498,\n",
              " 'आध': 499,\n",
              " 'राहील': 500,\n",
              " 'भर': 501,\n",
              " 'हस्': 502,\n",
              " 'वाज': 503,\n",
              " 'उपाययोज': 504,\n",
              " 'होण': 505,\n",
              " 'विशेष': 506,\n",
              " 'चल': 507,\n",
              " 'सन्मान': 508,\n",
              " 'मान्य': 509,\n",
              " 'दाद': 510,\n",
              " 'अहमदनगर': 511,\n",
              " 'आणख': 512,\n",
              " 'पार्ट': 513,\n",
              " 'शक्य': 514,\n",
              " 'होऊन': 515,\n",
              " 'मृत्य': 516,\n",
              " 'तुम्हाल': 517,\n",
              " 'घ्याव': 518,\n",
              " 'बाळासाहेब': 519,\n",
              " 'लढ': 520,\n",
              " 'ी': 521,\n",
              " 'जागतिक': 522,\n",
              " 'सार': 523,\n",
              " 'नेतृत्व': 524,\n",
              " 'झालं': 525,\n",
              " 'बांधव': 526,\n",
              " 'राम': 527,\n",
              " 'यात': 528,\n",
              " 'आदिवास': 529,\n",
              " 'खरेद': 530,\n",
              " 'ती': 531,\n",
              " 'िकास': 532,\n",
              " 'बळ': 533,\n",
              " 'हे': 534,\n",
              " 'अभिादन': 535,\n",
              " 'कोणत्य': 536,\n",
              " 'आल': 537,\n",
              " 'कंप': 538,\n",
              " 'घ्य': 539,\n",
              " 'संपन्न': 540,\n",
              " 'लागल': 541,\n",
              " 'कायद': 542,\n",
              " 'िनम्र': 543,\n",
              " 'दुःखद': 544,\n",
              " 'देण्': 545,\n",
              " 'प्रवास': 546,\n",
              " 'अपेक्ष': 547,\n",
              " 'यंत्रण': 548,\n",
              " 'बेरोजगार': 549,\n",
              " 'सांगत': 550,\n",
              " 'एकत्र': 551,\n",
              " 'प्रतिसाद': 552,\n",
              " 'दुसर': 553,\n",
              " 'निर्धार': 554,\n",
              " 'स्वातंत्र्य': 555,\n",
              " 'दिल्ल': 556,\n",
              " 'तर': 557,\n",
              " 'आण': 558,\n",
              " 'म्हण': 559,\n",
              " 'अपयश': 560,\n",
              " 'वर्षांत': 561,\n",
              " 'समाजाल': 562,\n",
              " 'दिलेल': 563,\n",
              " 'घटक': 564,\n",
              " 'देण्या': 565,\n",
              " 'बातम': 566,\n",
              " 'प्रचारार्थ': 567,\n",
              " 'खोट': 568,\n",
              " 'बाबत': 569,\n",
              " 'ल': 570,\n",
              " 'संदर्भ': 571,\n",
              " 'आर': 572,\n",
              " 'मुद्द': 573,\n",
              " 'पश्चिम': 574,\n",
              " 'ठर': 575,\n",
              " 'आयोग': 576,\n",
              " 'जाण': 577,\n",
              " 'वापर': 578,\n",
              " 'उद्धव': 579,\n",
              " 'यश': 580,\n",
              " 'ििध': 581,\n",
              " 'शाळ': 582,\n",
              " 'शरद': 583,\n",
              " 'दौंड': 584,\n",
              " 'मुंड': 585,\n",
              " 'जग': 586,\n",
              " 'शिंद': 587,\n",
              " 'सोलापूर': 588,\n",
              " 'सांगित': 589,\n",
              " 'सुख': 590,\n",
              " 'स्वाभिम': 591,\n",
              " 'किंव': 592,\n",
              " 'ठेव': 593,\n",
              " 'गरीब': 594,\n",
              " 'शैक्षणिक': 595,\n",
              " 'वाटत': 596,\n",
              " 'औरंगाबाद': 597,\n",
              " 'मंत्रिमंडळ': 598,\n",
              " 'चु': 599,\n",
              " 'सहकार्य': 600,\n",
              " 'इमारत': 601,\n",
              " 'विठ्ठल': 602,\n",
              " 'र्ष': 603,\n",
              " 'तात्काळ': 604,\n",
              " 'संाद': 605,\n",
              " 'कुण': 606,\n",
              " 'बोल': 607,\n",
              " 'शहीद': 608,\n",
              " 'प्राप्त': 609,\n",
              " 'समस्य': 610,\n",
              " 'सुविध': 611,\n",
              " 'संस्थापक': 612,\n",
              " 'दूर': 613,\n",
              " 'मंदिर': 614,\n",
              " 'रद्द': 615,\n",
              " 'विषय': 616,\n",
              " 'शक': 617,\n",
              " 'बोलत': 618,\n",
              " 'चळवळ': 619,\n",
              " 'आदर्श': 620,\n",
              " 'एकद': 621,\n",
              " 'परळ': 622,\n",
              " 'मागण्य': 623,\n",
              " 'धोरण': 624,\n",
              " 'सुरक्षित': 625,\n",
              " 'मार्गदर्शन': 626,\n",
              " 'रूपय': 627,\n",
              " 'कोणत': 628,\n",
              " 'उत्पादक': 629,\n",
              " 'मे': 630,\n",
              " 'होतं': 631,\n",
              " 'असलेल': 632,\n",
              " 'शिवस्वराज्य': 633,\n",
              " 'चित्रपट': 634,\n",
              " 'सं': 635,\n",
              " 'मिळत': 636,\n",
              " 'स्पर्ध': 637,\n",
              " 'पुण्यतिथीनिमित्त': 638,\n",
              " 'असल्': 639,\n",
              " 'अभिन': 640,\n",
              " 'लॉकडाऊन': 641,\n",
              " 'साथ': 642,\n",
              " 'केल': 643,\n",
              " 'मिळणार': 644,\n",
              " 'निवडणुक': 645,\n",
              " 'मुळ': 646,\n",
              " 'हजार': 647,\n",
              " 'आढा': 648,\n",
              " 'जास्त': 649,\n",
              " 'समोर': 650,\n",
              " 'स्मृतीस': 651,\n",
              " 'आल्य': 652,\n",
              " 'नव्य': 653,\n",
              " 'मोर्': 654,\n",
              " 'ज': 655,\n",
              " 'जाणून': 656,\n",
              " 'सभेल': 657,\n",
              " 'आम्': 658,\n",
              " 'व्यवस्थ': 659,\n",
              " 'सांग': 660,\n",
              " 'सरकारच्': 661,\n",
              " 'पद': 662,\n",
              " 'उपक्रम': 663,\n",
              " 'धर्म': 664,\n",
              " 'गर्द': 665,\n",
              " 'देऊ': 666,\n",
              " 'तेव्ह': 667,\n",
              " 'मुक्त': 668,\n",
              " 'मह': 669,\n",
              " 'सर्वोच्': 670,\n",
              " 'िरोध': 671,\n",
              " 'मतदान': 672,\n",
              " 'चार': 673,\n",
              " 'पावस': 674,\n",
              " 'मात': 675,\n",
              " 'सातार': 676,\n",
              " 'महिन्य': 677,\n",
              " 'अनुदान': 678,\n",
              " 'देव': 679,\n",
              " 'सध्य': 680,\n",
              " 'न्य': 681,\n",
              " 'हिंद': 682,\n",
              " 'कठोर': 683,\n",
              " 'निवडून': 684,\n",
              " 'मिळाव': 685,\n",
              " 'करायल': 686,\n",
              " 'आश्वासन': 687,\n",
              " 'महाराष्ट्राल': 688,\n",
              " 'नगर': 689,\n",
              " 'सोशल': 690,\n",
              " 'दोन्': 691,\n",
              " 'कुटुंबिय': 692,\n",
              " 'तालुक': 693,\n",
              " 'राहुल': 694,\n",
              " 'परवानग': 695,\n",
              " 'महान': 696,\n",
              " 'उच्': 697,\n",
              " 'जण': 698,\n",
              " 'मंजूर': 699,\n",
              " 'यांच्यासह': 700,\n",
              " 'बांधकाम': 701,\n",
              " 'प्रशास': 702,\n",
              " 'उद्य': 703,\n",
              " 'अर्ज': 704,\n",
              " 'राहणार': 705,\n",
              " 'दार': 706,\n",
              " 'उघड': 707,\n",
              " 'रात्र': 708,\n",
              " 'आयुक्त': 709,\n",
              " 'यांच्य': 710,\n",
              " 'घे': 711,\n",
              " 'पार्श्वभ': 712,\n",
              " 'रु': 713,\n",
              " 'पर्यंत': 714,\n",
              " 'स्मृतिद': 715,\n",
              " 'िचार': 716,\n",
              " 'लाख': 717,\n",
              " 'पुण्यतिथ': 718,\n",
              " 'सार्वजनिक': 719,\n",
              " 'ऑगस्ट': 720,\n",
              " 'क्रांत': 721,\n",
              " 'स्थित': 722,\n",
              " 'नाईक': 723,\n",
              " 'पद्धत': 724,\n",
              " 'स्मरण': 725,\n",
              " '।': 726,\n",
              " 'दलित': 727,\n",
              " 'मोफत': 728,\n",
              " 'इथ': 729,\n",
              " 'सादर': 730,\n",
              " 'संरक्षण': 731,\n",
              " 'किसान': 732,\n",
              " 'पॅकेज': 733,\n",
              " 'यशवंतराव': 734,\n",
              " 'कर्मचार': 735,\n",
              " 'दौर': 736,\n",
              " 'काढ': 737,\n",
              " 'दिवश': 738,\n",
              " 'मिळेल': 739,\n",
              " 'पहिल': 740,\n",
              " 'जार': 741,\n",
              " 'पी': 742,\n",
              " 'वंचित': 743,\n",
              " 'सभेत': 744,\n",
              " 'देवेंद्र': 745,\n",
              " 'बस': 746,\n",
              " 'प्रत्यक्ष': 747,\n",
              " 'सदिच्छ': 748,\n",
              " 'कोट': 749,\n",
              " 'आधार': 750,\n",
              " 'आश्यक': 751,\n",
              " 'आयोजन': 752,\n",
              " 'डॉक्टर': 753,\n",
              " 'धरण': 754,\n",
              " 'कांद': 755,\n",
              " 'अहवाल': 756,\n",
              " 'सा': 757,\n",
              " 'जवाबद': 758,\n",
              " 'संभाज': 759,\n",
              " 'माणस': 760,\n",
              " 'मांडल': 761,\n",
              " 'समाजसुधारक': 762,\n",
              " 'परत': 763,\n",
              " 'सावरकर': 764,\n",
              " 'केलेल्': 765,\n",
              " 'उपचार': 766,\n",
              " 'जवान': 767,\n",
              " 'रह': 768,\n",
              " 'आशीर्वाद': 769,\n",
              " 'प्रक्रिय': 770,\n",
              " 'पूर्व': 771,\n",
              " 'भाषण': 772,\n",
              " 'असणार': 773,\n",
              " 'येऊ': 774,\n",
              " 'सचिन': 775,\n",
              " 'रायगड': 776,\n",
              " 'सोहळ': 777,\n",
              " 'पाठिंब': 778,\n",
              " 'येऊन': 779,\n",
              " 'पुरोगाम': 780,\n",
              " 'दिश': 781,\n",
              " 'महाजनादेशयात्र': 782,\n",
              " 'उदघाटन': 783,\n",
              " 'स्वराज्य': 784,\n",
              " 'बाज': 785,\n",
              " 'तक्रार': 786,\n",
              " 'साहित्यिक': 787,\n",
              " 'महाराष्ट्रा': 788,\n",
              " 'मुंबईकर': 789,\n",
              " 'धन्यवाद': 790,\n",
              " 'आणण्य': 791,\n",
              " 'स्मारक': 792,\n",
              " 'उपमुख्यमंत्र': 793,\n",
              " 'निश्चित': 794,\n",
              " 'वृत्त': 795,\n",
              " 'युत': 796,\n",
              " 'असण': 797,\n",
              " 'देण्त': 798,\n",
              " 'लढाई': 799,\n",
              " 'मुस्लिम': 800,\n",
              " 'दाखव': 801,\n",
              " 'सिंह': 802,\n",
              " 'विधानसभेत': 803,\n",
              " 'बाहेर': 804,\n",
              " 'बाजार': 805,\n",
              " 'ऊस': 806,\n",
              " 'सरकारनं': 807,\n",
              " 'पाण्य': 808,\n",
              " 'साल': 809,\n",
              " 'नियुक्त': 810,\n",
              " 'काॅंग्रेस': 811,\n",
              " 'परिवर्तनयात्र': 812,\n",
              " 'विदर्भ': 813,\n",
              " 'सत्तेत': 814,\n",
              " 'देशाल': 815,\n",
              " 'साध': 816,\n",
              " 'गुन्ह': 817,\n",
              " 'कोविड': 818,\n",
              " 'पाऊस': 819,\n",
              " 'गणपत': 820,\n",
              " 'निकाल': 821,\n",
              " 'मार्गदर्शक': 822,\n",
              " 'आवाज': 823,\n",
              " 'चित्र': 824,\n",
              " 'तसं': 825,\n",
              " 'वैद्य': 826,\n",
              " 'पालन': 827,\n",
              " 'ओळख': 828,\n",
              " 'यशस्व': 829,\n",
              " 'स्': 830,\n",
              " 'खात्र': 831,\n",
              " 'स्वतंत्र': 832,\n",
              " 'मिळवून': 833,\n",
              " 'अर्थसंकल्प': 834,\n",
              " 'प्रवेश': 835,\n",
              " 'नस': 836,\n",
              " 'का': 837,\n",
              " 'संजय': 838,\n",
              " 'शिवार': 839,\n",
              " 'दोष': 840,\n",
              " 'युव': 841,\n",
              " 'जाण्य': 842,\n",
              " 'महापालिक': 843,\n",
              " 'येत': 844,\n",
              " 'राज्त': 845,\n",
              " 'अंतर्गत': 846,\n",
              " 'प्रदेशाध्यक्ष': 847,\n",
              " 'परीक्ष': 848,\n",
              " 'राज्यमंत्र': 849,\n",
              " 'ऐतिहासिक': 850,\n",
              " 'स्मृत': 851,\n",
              " 'कर्नाटक': 852,\n",
              " 'कारभार': 853,\n",
              " 'अखेर': 854,\n",
              " 'आपल्': 855,\n",
              " 'कल्याण': 856,\n",
              " 'उमेदार': 857,\n",
              " 'सातत्य': 858,\n",
              " 'संख्य': 859,\n",
              " 'शुभारंभ': 860,\n",
              " 'कड': 861,\n",
              " 'गोष्ट': 862,\n",
              " 'विधान': 863,\n",
              " 'पाठीश': 864,\n",
              " 'सुरक्ष': 865,\n",
              " 'राष्ट्रपत': 866,\n",
              " 'भरत': 867,\n",
              " 'पहिल्य': 868,\n",
              " 'तालुक्': 869,\n",
              " 'अभ्यास': 870,\n",
              " 'अशोक': 871,\n",
              " 'धनगर': 872,\n",
              " 'रक्कम': 873,\n",
              " 'ेळ': 874,\n",
              " 'यंद': 875,\n",
              " 'शंक': 876,\n",
              " 'हित': 877,\n",
              " 'दुध': 878,\n",
              " 'प्रगत': 879,\n",
              " 'शेतकर्\\u200dय': 880,\n",
              " 'तीव्र': 881,\n",
              " 'कमिट': 882,\n",
              " 'माननीय': 883,\n",
              " 'कार्यक्रमाल': 884,\n",
              " 'लोकप्रतिनिध': 885,\n",
              " 'मंत्र्य': 886,\n",
              " 'संबंध': 887,\n",
              " 'पुस्तक': 888,\n",
              " 'नियंत्रण': 889,\n",
              " 'दिनानिमित्त': 890,\n",
              " 'समाधान': 891,\n",
              " 'जलयुक्त': 892,\n",
              " 'रुग्णालय': 893,\n",
              " 'जुलै': 894,\n",
              " 'विद्यार्थ': 895,\n",
              " 'महोदय': 896,\n",
              " 'सदैव': 897,\n",
              " 'आह': 898,\n",
              " 'संस्कृत': 899,\n",
              " 'दखल': 900,\n",
              " 'करेल': 901,\n",
              " 'क्षण': 902,\n",
              " 'सकारात्मक': 903,\n",
              " 'जनते': 904,\n",
              " 'दूध': 905,\n",
              " 'प': 906,\n",
              " 'प्र': 907,\n",
              " 'नंतर': 908,\n",
              " 'पासून': 909,\n",
              " 'शिवस्वराज्ययात्र': 910,\n",
              " 'ताकद': 911,\n",
              " 'निर्मित': 912,\n",
              " 'शक्त': 913,\n",
              " 'इतक': 914,\n",
              " 'सदर': 915,\n",
              " 'टिळक': 916,\n",
              " 'आलेल': 917,\n",
              " 'अभिमान': 918,\n",
              " 'सतत': 919,\n",
              " 'दिलास': 920,\n",
              " 'शेतकऱ्यां': 921,\n",
              " 'निसर्ग': 922,\n",
              " 'गत': 923,\n",
              " 'बहुजन': 924,\n",
              " 'देशा': 925,\n",
              " 'पिंपर': 926,\n",
              " 'पुढाकार': 927,\n",
              " 'लागणार': 928,\n",
              " 'मांड': 929,\n",
              " 'लेखक': 930,\n",
              " 'झाल्याबद्दल': 931,\n",
              " 'उत्साह': 932,\n",
              " 'आणल': 933,\n",
              " 'गृहमंत्र': 934,\n",
              " 'वेगळ': 935,\n",
              " 'महत्व': 936,\n",
              " 'लागत': 937,\n",
              " 'सुरुव': 938,\n",
              " 'प्रकाश': 939,\n",
              " 'एकूण': 940,\n",
              " 'कदम': 941,\n",
              " 'तो': 942,\n",
              " 'कल': 943,\n",
              " 'आलं': 944,\n",
              " 'वीज': 945,\n",
              " 'ठेवून': 946,\n",
              " 'किमान': 947,\n",
              " 'महाआघाड': 948,\n",
              " 'स्थापन': 949,\n",
              " 'त्या': 950,\n",
              " 'पडद्याआड': 951,\n",
              " 'आलेल्': 952,\n",
              " 'रक्षण': 953,\n",
              " 'दिसून': 954,\n",
              " 'स्वत': 955,\n",
              " 'दृष्ट': 956,\n",
              " 'मराठवाड': 957,\n",
              " 'बंध': 958,\n",
              " 'रस्त्य': 959,\n",
              " 'वांद्र': 960,\n",
              " 'गणेश': 961,\n",
              " 'नियम': 962,\n",
              " 'उपयोग': 963,\n",
              " 'होणार': 964,\n",
              " 'काढून': 965,\n",
              " 'व्ह': 966,\n",
              " 'सिंचन': 967,\n",
              " 'फायद': 968,\n",
              " 'हि': 969,\n",
              " 'संसर्ग': 970,\n",
              " 'इ': 971,\n",
              " 'मुलाखत': 972,\n",
              " 'घेतल्य': 973,\n",
              " 'निवड': 974,\n",
              " 'विद्यापीठ': 975,\n",
              " 'घालून': 976,\n",
              " 'भविष्य': 977,\n",
              " 'मिळून': 978,\n",
              " 'गुर': 979,\n",
              " 'मनःपूर्क': 980,\n",
              " 'उद्धवज': 981,\n",
              " 'सोडून': 982,\n",
              " 'पूरग्रस्त': 983,\n",
              " 'मोठ्': 984,\n",
              " 'शत': 985,\n",
              " 'क्रीड': 986,\n",
              " 'सत्य': 987,\n",
              " 'सावंत': 988,\n",
              " 'सत्ताधार': 989,\n",
              " 'अद्याप': 990,\n",
              " 'व्': 991,\n",
              " 'ए': 992,\n",
              " 'प्रसंग': 993,\n",
              " 'पिढ': 994,\n",
              " 'झाल्': 995,\n",
              " 'पर्व': 996,\n",
              " 'घेऊ': 997,\n",
              " 'सम': 998,\n",
              " 'पिक': 999,\n",
              " 'शपथ': 1000,\n",
              " ...}"
            ]
          },
          "metadata": {},
          "execution_count": 175
        }
      ]
    },
    {
      "cell_type": "code",
      "source": [
        "train_sequences = tokinizer.texts_to_sequences(df.loc[~df['tweet'].isnull(), 'tweet'])"
      ],
      "metadata": {
        "id": "In-HIhNq474s"
      },
      "execution_count": 176,
      "outputs": []
    },
    {
      "cell_type": "code",
      "source": [
        "test_sequences = tokinizer.texts_to_sequences(df_t['tweet'].values)\n"
      ],
      "metadata": {
        "id": "-77-Q9ps477j"
      },
      "execution_count": 177,
      "outputs": []
    },
    {
      "cell_type": "code",
      "source": [
        "val_sequences = tokinizer.texts_to_sequences(df_v['tweet'].values)\n"
      ],
      "metadata": {
        "id": "DxUPFD7z48BS"
      },
      "execution_count": 178,
      "outputs": []
    },
    {
      "cell_type": "code",
      "source": [
        "\n",
        "print(df['tweet'][0])\n",
        "print(train_sequences[0])"
      ],
      "metadata": {
        "id": "53vjOuRC48DZ",
        "colab": {
          "base_uri": "https://localhost:8080/"
        },
        "outputId": "4c0c6407-a186-4bd8-bc72-c1df0786e934"
      },
      "execution_count": 179,
      "outputs": [
        {
          "output_type": "stream",
          "name": "stdout",
          "text": [
            "ज्येष्ठ पत्रकार अनंत दीक्षित यां निधन वृत्त दुखद दशकं परखड लेखण पत्रकारितेत अमूल्य योगदान दि दीक्षित यां मार्गदर्शनाखाल पत्रकारां पिढ घडल अनंत दीक्षित य भावपूर्ण श्रद्धांजल त्य परिवार दुख सहभाग आहोत\n",
            "[83, 132, 1800, 4171, 4, 77, 795, 1676, 8272, 2692, 2387, 10711, 2693, 268, 19, 4171, 4, 1864, 5150, 994, 1732, 1800, 4171, 1, 62, 39, 14, 1733, 1230, 97, 236]\n"
          ]
        }
      ]
    },
    {
      "cell_type": "code",
      "source": [
        "from tensorflow.keras.preprocessing.sequence import pad_sequences"
      ],
      "metadata": {
        "id": "ZaSZDynL5dJj"
      },
      "execution_count": 180,
      "outputs": []
    },
    {
      "cell_type": "code",
      "source": [
        "train_padded=pad_sequences(train_sequences, maxlen=250, padding='post', truncating='post')\n",
        "val_padded=pad_sequences(val_sequences, maxlen=250, padding='post', truncating='post')\n",
        "test_padded=pad_sequences(test_sequences, maxlen=250, padding='post', truncating='post')"
      ],
      "metadata": {
        "id": "7OBLHqS65w0b"
      },
      "execution_count": 181,
      "outputs": []
    },
    {
      "cell_type": "code",
      "source": [
        "print(train_padded.shape, val_padded.shape, test_padded.shape)"
      ],
      "metadata": {
        "colab": {
          "base_uri": "https://localhost:8080/"
        },
        "id": "7wXMIrbo5w0c",
        "outputId": "0c181015-651e-4e8e-e0a6-4c33a3311b2b"
      },
      "execution_count": 182,
      "outputs": [
        {
          "output_type": "stream",
          "name": "stdout",
          "text": [
            "(12112, 250) (1500, 250) (2250, 250)\n"
          ]
        }
      ]
    },
    {
      "cell_type": "code",
      "source": [
        "from keras.layers import Embedding, LSTM, Dense, Dropout\n",
        "from sklearn.metrics import classification_report\n",
        "from keras.optimizers import Adam\n",
        "model = Sequential()"
      ],
      "metadata": {
        "id": "m76GCIjz5w0d"
      },
      "execution_count": 183,
      "outputs": []
    },
    {
      "cell_type": "code",
      "source": [
        "model.add(layers.Embedding(40000, 32, input_length=250))\n",
        "model.add(layers.Dense(256, activation='gelu'))\n",
        "model.add(layers.Flatten())\n",
        "model.add(layers.Dense(3, activation='softmax'))"
      ],
      "metadata": {
        "id": "39_trtiE5w0d"
      },
      "execution_count": 184,
      "outputs": []
    },
    {
      "cell_type": "code",
      "source": [
        "optim = tf.keras.optimizers.Adam(learning_rate=0.0002)\n",
        "model.compile(loss='categorical_crossentropy', optimizer=optim, metrics=['accuracy'])\n"
      ],
      "metadata": {
        "id": "hZtLVjIF5w0d"
      },
      "execution_count": 191,
      "outputs": []
    },
    {
      "cell_type": "code",
      "source": [
        "train_label_categorical = to_categorical(df.loc[~df['tweet'].isnull(), 'label'], num_classes=3)\n",
        "\n",
        "\n",
        "val_label_categorical = to_categorical(df_v['label'].values, num_classes=3)\n",
        "\n",
        "\n",
        "test_label_categorical = to_categorical(df_t['label'].values, num_classes=3)"
      ],
      "metadata": {
        "id": "OQv_XCXm8QeE"
      },
      "execution_count": 186,
      "outputs": []
    },
    {
      "cell_type": "code",
      "source": [
        "\n",
        "val_label_categorical"
      ],
      "metadata": {
        "colab": {
          "base_uri": "https://localhost:8080/"
        },
        "id": "izgy4Uqf8WaY",
        "outputId": "3a126d69-973c-4c28-d95d-914312e289d7"
      },
      "execution_count": 187,
      "outputs": [
        {
          "output_type": "execute_result",
          "data": {
            "text/plain": [
              "array([[0., 1., 0.],\n",
              "       [0., 1., 0.],\n",
              "       [1., 0., 0.],\n",
              "       ...,\n",
              "       [1., 0., 0.],\n",
              "       [1., 0., 0.],\n",
              "       [0., 1., 0.]], dtype=float32)"
            ]
          },
          "metadata": {},
          "execution_count": 187
        }
      ]
    },
    {
      "cell_type": "code",
      "source": [
        "train_label_categorical"
      ],
      "metadata": {
        "colab": {
          "base_uri": "https://localhost:8080/"
        },
        "id": "cTVfBi2L8W6I",
        "outputId": "a9a9a5f6-9cb1-44fb-d4d1-e6bc6a464613"
      },
      "execution_count": 188,
      "outputs": [
        {
          "output_type": "execute_result",
          "data": {
            "text/plain": [
              "array([[0., 0., 1.],\n",
              "       [0., 0., 1.],\n",
              "       [0., 0., 1.],\n",
              "       ...,\n",
              "       [0., 0., 1.],\n",
              "       [0., 0., 1.],\n",
              "       [0., 0., 1.]], dtype=float32)"
            ]
          },
          "metadata": {},
          "execution_count": 188
        }
      ]
    },
    {
      "cell_type": "code",
      "source": [
        "tf.config.run_functions_eagerly(True)\n",
        "model.fit(train_padded, to_categorical(df.loc[~df['tweet'].isnull(), 'label'].values, num_classes=3), epochs=5, validation_data=(val_padded, to_categorical(df_v['label'].values, num_classes=3)), verbose=2)"
      ],
      "metadata": {
        "colab": {
          "base_uri": "https://localhost:8080/"
        },
        "id": "gCiQ-mj2esAl",
        "outputId": "0c6bfdea-2bf0-4ab7-f822-8a877b4c6638"
      },
      "execution_count": 192,
      "outputs": [
        {
          "output_type": "stream",
          "name": "stdout",
          "text": [
            "Epoch 1/5\n",
            "379/379 - 15s - loss: 0.2738 - accuracy: 0.8969 - val_loss: 0.5405 - val_accuracy: 0.7760 - 15s/epoch - 41ms/step\n",
            "Epoch 2/5\n",
            "379/379 - 20s - loss: 0.1884 - accuracy: 0.9369 - val_loss: 0.5698 - val_accuracy: 0.7820 - 20s/epoch - 54ms/step\n",
            "Epoch 3/5\n",
            "379/379 - 18s - loss: 0.1229 - accuracy: 0.9643 - val_loss: 0.6238 - val_accuracy: 0.7780 - 18s/epoch - 49ms/step\n",
            "Epoch 4/5\n",
            "379/379 - 15s - loss: 0.0779 - accuracy: 0.9785 - val_loss: 0.6814 - val_accuracy: 0.7713 - 15s/epoch - 39ms/step\n",
            "Epoch 5/5\n",
            "379/379 - 15s - loss: 0.0506 - accuracy: 0.9893 - val_loss: 0.7503 - val_accuracy: 0.7673 - 15s/epoch - 39ms/step\n"
          ]
        },
        {
          "output_type": "execute_result",
          "data": {
            "text/plain": [
              "<keras.callbacks.History at 0x7915b2f4af20>"
            ]
          },
          "metadata": {},
          "execution_count": 192
        }
      ]
    },
    {
      "cell_type": "code",
      "source": [
        "\n",
        "model.evaluate(test_padded, to_categorical(df_t['label'].values, num_classes=3))"
      ],
      "metadata": {
        "colab": {
          "base_uri": "https://localhost:8080/"
        },
        "id": "k2GwKU-K-3Z-",
        "outputId": "4c223b99-6243-4ec5-dca4-7c34a73103e3"
      },
      "execution_count": 194,
      "outputs": [
        {
          "output_type": "stream",
          "name": "stdout",
          "text": [
            "\r 1/71 [..............................] - ETA: 5s - loss: 1.4887 - accuracy: 0.7500"
          ]
        },
        {
          "output_type": "stream",
          "name": "stderr",
          "text": [
            "/usr/local/lib/python3.10/dist-packages/tensorflow/python/data/ops/structured_function.py:254: UserWarning: Even though the `tf.config.experimental_run_functions_eagerly` option is set, this option does not apply to tf.data functions. To force eager execution of tf.data functions, please use `tf.data.experimental.enable_debug_mode()`.\n",
            "  warnings.warn(\n"
          ]
        },
        {
          "output_type": "stream",
          "name": "stdout",
          "text": [
            "71/71 [==============================] - 2s 28ms/step - loss: 0.7892 - accuracy: 0.7662\n"
          ]
        },
        {
          "output_type": "execute_result",
          "data": {
            "text/plain": [
              "[0.7891718745231628, 0.7662222385406494]"
            ]
          },
          "metadata": {},
          "execution_count": 194
        }
      ]
    },
    {
      "cell_type": "code",
      "source": [
        "predictions = model.predict(test_padded)\n",
        "predictions\n",
        ""
      ],
      "metadata": {
        "colab": {
          "base_uri": "https://localhost:8080/"
        },
        "id": "G3y-IPf8-3d4",
        "outputId": "663a8305-dcb8-4280-ae18-c07cf8a99c76"
      },
      "execution_count": 195,
      "outputs": [
        {
          "output_type": "stream",
          "name": "stdout",
          "text": [
            "71/71 [==============================] - 0s 6ms/step\n"
          ]
        },
        {
          "output_type": "execute_result",
          "data": {
            "text/plain": [
              "array([[3.4742965e-11, 3.4218808e-11, 1.0000000e+00],\n",
              "       [4.1923095e-03, 2.2777231e-02, 9.7303039e-01],\n",
              "       [9.8382319e-05, 7.5883046e-03, 9.9231333e-01],\n",
              "       ...,\n",
              "       [9.9814188e-01, 1.7341408e-04, 1.6847822e-03],\n",
              "       [2.1446535e-01, 7.7595657e-01, 9.5780576e-03],\n",
              "       [1.9761559e-01, 7.9495245e-01, 7.4318941e-03]], dtype=float32)"
            ]
          },
          "metadata": {},
          "execution_count": 195
        }
      ]
    },
    {
      "cell_type": "code",
      "source": [
        "import sklearn\n",
        "matrix = sklearn.metrics.confusion_matrix(test_label_categorical.argmax(axis=1), predictions.argmax(axis=1))\n",
        "print(matrix)"
      ],
      "metadata": {
        "colab": {
          "base_uri": "https://localhost:8080/"
        },
        "id": "EmFmd3Q5-3yR",
        "outputId": "2cdef2fa-4bc9-4b76-8049-174797388e0b"
      },
      "execution_count": 196,
      "outputs": [
        {
          "output_type": "stream",
          "name": "stdout",
          "text": [
            "[[585  86  79]\n",
            " [149 547  54]\n",
            " [117  41 592]]\n"
          ]
        }
      ]
    },
    {
      "cell_type": "code",
      "source": [
        "from sklearn.metrics import accuracy_score, f1_score\n",
        "print(accuracy_score(test_label_categorical.argmax(axis=1), predictions.argmax(axis=1)))\n",
        "print(f1_score(test_label_categorical.argmax(axis=1), predictions.argmax(axis=1), average=None))\n",
        ""
      ],
      "metadata": {
        "colab": {
          "base_uri": "https://localhost:8080/"
        },
        "id": "d7u18PJM-4Ca",
        "outputId": "ac636463-1bba-4e8a-d598-88a37bdbd5ff"
      },
      "execution_count": 197,
      "outputs": [
        {
          "output_type": "stream",
          "name": "stdout",
          "text": [
            "0.7662222222222222\n",
            "[0.73079325 0.76825843 0.80271186]\n"
          ]
        }
      ]
    },
    {
      "cell_type": "code",
      "source": [
        "!pip install transformers\n"
      ],
      "metadata": {
        "colab": {
          "base_uri": "https://localhost:8080/"
        },
        "id": "wvmAMad9brrW",
        "outputId": "0e113c5d-2b1e-4637-ae08-d31e3a26cc0c"
      },
      "execution_count": 122,
      "outputs": [
        {
          "output_type": "stream",
          "name": "stdout",
          "text": [
            "Requirement already satisfied: transformers in /usr/local/lib/python3.10/dist-packages (4.31.0)\n",
            "Requirement already satisfied: filelock in /usr/local/lib/python3.10/dist-packages (from transformers) (3.12.2)\n",
            "Requirement already satisfied: huggingface-hub<1.0,>=0.14.1 in /usr/local/lib/python3.10/dist-packages (from transformers) (0.16.4)\n",
            "Requirement already satisfied: numpy>=1.17 in /usr/local/lib/python3.10/dist-packages (from transformers) (1.23.5)\n",
            "Requirement already satisfied: packaging>=20.0 in /usr/local/lib/python3.10/dist-packages (from transformers) (23.1)\n",
            "Requirement already satisfied: pyyaml>=5.1 in /usr/local/lib/python3.10/dist-packages (from transformers) (6.0.1)\n",
            "Requirement already satisfied: regex!=2019.12.17 in /usr/local/lib/python3.10/dist-packages (from transformers) (2023.6.3)\n",
            "Requirement already satisfied: requests in /usr/local/lib/python3.10/dist-packages (from transformers) (2.31.0)\n",
            "Requirement already satisfied: tokenizers!=0.11.3,<0.14,>=0.11.1 in /usr/local/lib/python3.10/dist-packages (from transformers) (0.13.3)\n",
            "Requirement already satisfied: safetensors>=0.3.1 in /usr/local/lib/python3.10/dist-packages (from transformers) (0.3.2)\n",
            "Requirement already satisfied: tqdm>=4.27 in /usr/local/lib/python3.10/dist-packages (from transformers) (4.66.0)\n",
            "Requirement already satisfied: fsspec in /usr/local/lib/python3.10/dist-packages (from huggingface-hub<1.0,>=0.14.1->transformers) (2023.6.0)\n",
            "Requirement already satisfied: typing-extensions>=3.7.4.3 in /usr/local/lib/python3.10/dist-packages (from huggingface-hub<1.0,>=0.14.1->transformers) (4.7.1)\n",
            "Requirement already satisfied: charset-normalizer<4,>=2 in /usr/local/lib/python3.10/dist-packages (from requests->transformers) (3.2.0)\n",
            "Requirement already satisfied: idna<4,>=2.5 in /usr/local/lib/python3.10/dist-packages (from requests->transformers) (3.4)\n",
            "Requirement already satisfied: urllib3<3,>=1.21.1 in /usr/local/lib/python3.10/dist-packages (from requests->transformers) (2.0.4)\n",
            "Requirement already satisfied: certifi>=2017.4.17 in /usr/local/lib/python3.10/dist-packages (from requests->transformers) (2023.7.22)\n"
          ]
        }
      ]
    },
    {
      "cell_type": "code",
      "source": [
        "!pip install sentence-transformers\n"
      ],
      "metadata": {
        "colab": {
          "base_uri": "https://localhost:8080/"
        },
        "id": "D7pSvNoYjPgQ",
        "outputId": "b1adb0af-4a46-4ca4-a80c-5b58cc439a00"
      },
      "execution_count": 123,
      "outputs": [
        {
          "output_type": "stream",
          "name": "stdout",
          "text": [
            "Requirement already satisfied: sentence-transformers in /usr/local/lib/python3.10/dist-packages (2.2.2)\n",
            "Requirement already satisfied: transformers<5.0.0,>=4.6.0 in /usr/local/lib/python3.10/dist-packages (from sentence-transformers) (4.31.0)\n",
            "Requirement already satisfied: tqdm in /usr/local/lib/python3.10/dist-packages (from sentence-transformers) (4.66.0)\n",
            "Requirement already satisfied: torch>=1.6.0 in /usr/local/lib/python3.10/dist-packages (from sentence-transformers) (2.0.1+cu118)\n",
            "Requirement already satisfied: torchvision in /usr/local/lib/python3.10/dist-packages (from sentence-transformers) (0.15.2+cu118)\n",
            "Requirement already satisfied: numpy in /usr/local/lib/python3.10/dist-packages (from sentence-transformers) (1.23.5)\n",
            "Requirement already satisfied: scikit-learn in /usr/local/lib/python3.10/dist-packages (from sentence-transformers) (1.2.2)\n",
            "Requirement already satisfied: scipy in /usr/local/lib/python3.10/dist-packages (from sentence-transformers) (1.10.1)\n",
            "Requirement already satisfied: nltk in /usr/local/lib/python3.10/dist-packages (from sentence-transformers) (3.8.1)\n",
            "Requirement already satisfied: sentencepiece in /usr/local/lib/python3.10/dist-packages (from sentence-transformers) (0.1.99)\n",
            "Requirement already satisfied: huggingface-hub>=0.4.0 in /usr/local/lib/python3.10/dist-packages (from sentence-transformers) (0.16.4)\n",
            "Requirement already satisfied: filelock in /usr/local/lib/python3.10/dist-packages (from huggingface-hub>=0.4.0->sentence-transformers) (3.12.2)\n",
            "Requirement already satisfied: fsspec in /usr/local/lib/python3.10/dist-packages (from huggingface-hub>=0.4.0->sentence-transformers) (2023.6.0)\n",
            "Requirement already satisfied: requests in /usr/local/lib/python3.10/dist-packages (from huggingface-hub>=0.4.0->sentence-transformers) (2.31.0)\n",
            "Requirement already satisfied: pyyaml>=5.1 in /usr/local/lib/python3.10/dist-packages (from huggingface-hub>=0.4.0->sentence-transformers) (6.0.1)\n",
            "Requirement already satisfied: typing-extensions>=3.7.4.3 in /usr/local/lib/python3.10/dist-packages (from huggingface-hub>=0.4.0->sentence-transformers) (4.7.1)\n",
            "Requirement already satisfied: packaging>=20.9 in /usr/local/lib/python3.10/dist-packages (from huggingface-hub>=0.4.0->sentence-transformers) (23.1)\n",
            "Requirement already satisfied: sympy in /usr/local/lib/python3.10/dist-packages (from torch>=1.6.0->sentence-transformers) (1.12)\n",
            "Requirement already satisfied: networkx in /usr/local/lib/python3.10/dist-packages (from torch>=1.6.0->sentence-transformers) (3.1)\n",
            "Requirement already satisfied: jinja2 in /usr/local/lib/python3.10/dist-packages (from torch>=1.6.0->sentence-transformers) (3.1.2)\n",
            "Requirement already satisfied: triton==2.0.0 in /usr/local/lib/python3.10/dist-packages (from torch>=1.6.0->sentence-transformers) (2.0.0)\n",
            "Requirement already satisfied: cmake in /usr/local/lib/python3.10/dist-packages (from triton==2.0.0->torch>=1.6.0->sentence-transformers) (3.27.1)\n",
            "Requirement already satisfied: lit in /usr/local/lib/python3.10/dist-packages (from triton==2.0.0->torch>=1.6.0->sentence-transformers) (16.0.6)\n",
            "Requirement already satisfied: regex!=2019.12.17 in /usr/local/lib/python3.10/dist-packages (from transformers<5.0.0,>=4.6.0->sentence-transformers) (2023.6.3)\n",
            "Requirement already satisfied: tokenizers!=0.11.3,<0.14,>=0.11.1 in /usr/local/lib/python3.10/dist-packages (from transformers<5.0.0,>=4.6.0->sentence-transformers) (0.13.3)\n",
            "Requirement already satisfied: safetensors>=0.3.1 in /usr/local/lib/python3.10/dist-packages (from transformers<5.0.0,>=4.6.0->sentence-transformers) (0.3.2)\n",
            "Requirement already satisfied: click in /usr/local/lib/python3.10/dist-packages (from nltk->sentence-transformers) (8.1.6)\n",
            "Requirement already satisfied: joblib in /usr/local/lib/python3.10/dist-packages (from nltk->sentence-transformers) (1.3.2)\n",
            "Requirement already satisfied: threadpoolctl>=2.0.0 in /usr/local/lib/python3.10/dist-packages (from scikit-learn->sentence-transformers) (3.2.0)\n",
            "Requirement already satisfied: pillow!=8.3.*,>=5.3.0 in /usr/local/lib/python3.10/dist-packages (from torchvision->sentence-transformers) (9.4.0)\n",
            "Requirement already satisfied: MarkupSafe>=2.0 in /usr/local/lib/python3.10/dist-packages (from jinja2->torch>=1.6.0->sentence-transformers) (2.1.3)\n",
            "Requirement already satisfied: charset-normalizer<4,>=2 in /usr/local/lib/python3.10/dist-packages (from requests->huggingface-hub>=0.4.0->sentence-transformers) (3.2.0)\n",
            "Requirement already satisfied: idna<4,>=2.5 in /usr/local/lib/python3.10/dist-packages (from requests->huggingface-hub>=0.4.0->sentence-transformers) (3.4)\n",
            "Requirement already satisfied: urllib3<3,>=1.21.1 in /usr/local/lib/python3.10/dist-packages (from requests->huggingface-hub>=0.4.0->sentence-transformers) (2.0.4)\n",
            "Requirement already satisfied: certifi>=2017.4.17 in /usr/local/lib/python3.10/dist-packages (from requests->huggingface-hub>=0.4.0->sentence-transformers) (2023.7.22)\n",
            "Requirement already satisfied: mpmath>=0.19 in /usr/local/lib/python3.10/dist-packages (from sympy->torch>=1.6.0->sentence-transformers) (1.3.0)\n"
          ]
        }
      ]
    },
    {
      "cell_type": "code",
      "source": [
        "from transformers import AutoTokenizer, BertTokenizer, TFBertModel, AutoModel, TFAutoModel, TFAutoModelForSequenceClassification"
      ],
      "metadata": {
        "id": "Fvlig1iWb0IB"
      },
      "execution_count": 124,
      "outputs": []
    },
    {
      "cell_type": "code",
      "source": [
        "from sentence_transformers import SentenceTransformer"
      ],
      "metadata": {
        "id": "klzvZ-_OjYk7"
      },
      "execution_count": 125,
      "outputs": []
    },
    {
      "cell_type": "code",
      "source": [
        "tokenizer = AutoTokenizer.from_pretrained(\"l3cube-pune/indic-sentence-bert-nli\")"
      ],
      "metadata": {
        "id": "usgEiIyAfdiM"
      },
      "execution_count": 126,
      "outputs": []
    },
    {
      "cell_type": "code",
      "source": [
        "df = pd.read_excel(\"/content/tweets-train-cleaned.xlsx\", index_col='Unnamed: 0')\n",
        "df_v = pd.read_excel(\"/content/tweets-valid-cleaned.xlsx\", index_col='Unnamed: 0')\n",
        "df_t = pd.read_excel(\"/content/tweets-test-cleaned.xlsx\", index_col='Unnamed: 0')\n"
      ],
      "metadata": {
        "id": "p9k2aZrpb0M4"
      },
      "execution_count": 127,
      "outputs": []
    },
    {
      "cell_type": "code",
      "source": [
        "train_inputs = tokenizer(df.loc[~df['tweet'].isnull(), 'tweet'].tolist(), padding=True, truncation=True, max_length=250, return_tensors=\"tf\")\n",
        "val_inputs = tokenizer(df_v['tweet'].tolist(), padding=True, truncation=True, max_length=250, return_tensors=\"tf\")\n",
        "test_inputs = tokenizer(df_t['tweet'].tolist(), padding=True, truncation=True, max_length=250, return_tensors=\"tf\")"
      ],
      "metadata": {
        "id": "oXiOuwP2b0P3"
      },
      "execution_count": 128,
      "outputs": []
    },
    {
      "cell_type": "code",
      "source": [
        "train_labels = df.loc[~df['tweet'].isnull(), 'label'].values\n",
        "val_labels = df_v['label'].values\n",
        "test_labels = df_t['label'].values"
      ],
      "metadata": {
        "id": "PD6Ida-5euf1"
      },
      "execution_count": 129,
      "outputs": []
    },
    {
      "cell_type": "code",
      "source": [
        "num_classes = 3\n",
        "train_label_categorical = to_categorical(train_labels, num_classes=num_classes)\n",
        "val_label_categorical = to_categorical(val_labels, num_classes=num_classes)\n",
        "test_label_categorical = to_categorical(test_labels, num_classes=num_classes)"
      ],
      "metadata": {
        "id": "dVw4onNaeujZ"
      },
      "execution_count": 130,
      "outputs": []
    },
    {
      "cell_type": "code",
      "source": [
        "model = SentenceTransformer(\"l3cube-pune/indic-sentence-bert-nli\")"
      ],
      "metadata": {
        "id": "0hj3NXNAeumW"
      },
      "execution_count": 131,
      "outputs": []
    },
    {
      "cell_type": "code",
      "source": [
        "train_embeddings = model.encode(df.loc[~df['tweet'].isnull(), 'tweet'].tolist(), show_progress_bar=True)\n",
        "val_embeddings = model.encode(df_v['tweet'].tolist(), show_progress_bar=True)\n",
        "test_embeddings = model.encode(df_t['tweet'].tolist(), show_progress_bar=True)"
      ],
      "metadata": {
        "colab": {
          "base_uri": "https://localhost:8080/",
          "height": 113,
          "referenced_widgets": [
            "a5ef7e9e3157447aa7fd77fc6d2df9e2",
            "f5e54da547084bf7a1213875a12984f9",
            "de322403e4634de3bdd9c6711b64e072",
            "6cf906408e68496eb5d7996c48b10098",
            "e35f3a4fd9e34d869fef63b20c1a518b",
            "2e3b8d6bea7b474fb0f0b38b687eacec",
            "31fdb1354c904f92980eee8cf65ea25a",
            "e76e77a85f014284b40ef69c9bf2543c",
            "331daa239abb41dda866edef90853d87",
            "6b2b31312cb1432e988e303382bae2ec",
            "ebea0678b95c4565a835aa1d1242b990",
            "97db08854b3c4e068a6403ae522a862e",
            "0159f9bec54a40ce908d8a67f3ac625e",
            "b783ba51e9014331b60c7e739e4eeece",
            "025d374e0cb7436db8b1ddfaf638e12a",
            "f78259bd5c9540efaa7d5d7029ad0776",
            "466399a77850420f833b2f88a714ddfc",
            "c5cc369284c54be784e03566d42ea91b",
            "14031bf0b30e42b18ff914b01f53f5cf",
            "ea5f6c139a1c4926ad51ef27b079f1f9",
            "25151516775a4e1d92d5255c39f4c7cf",
            "dfcf7a10281e4f53894dbbbb18c88449",
            "d14a19acf9d34e979c68a9c242b16b04",
            "e2478b184e2e4d8db0def17fa90a17ba",
            "febe7b0ec7cc49b1b0c2f0a1da77200d",
            "b84db4896fa343fcbb9ea9249d5c8d07",
            "f4c612c849c2401ea2a950751abd0746",
            "a565c7b8120f45128da1d2ae4b490bbe",
            "4c96a4c6112f45a38d3ae56345f210a4",
            "99721a9af82441fb896322de7c762d1f",
            "541e9744208a428a962e5167d486e148",
            "304e1600dc274521b9af1e028691c87b",
            "384a72257b844b8b9d27bbd2cb321c72"
          ]
        },
        "id": "ytd64mW7eupY",
        "outputId": "7e3b2245-926b-41fe-8dd1-e5b344725983"
      },
      "execution_count": 132,
      "outputs": [
        {
          "output_type": "display_data",
          "data": {
            "text/plain": [
              "Batches:   0%|          | 0/379 [00:00<?, ?it/s]"
            ],
            "application/vnd.jupyter.widget-view+json": {
              "version_major": 2,
              "version_minor": 0,
              "model_id": "a5ef7e9e3157447aa7fd77fc6d2df9e2"
            }
          },
          "metadata": {}
        },
        {
          "output_type": "display_data",
          "data": {
            "text/plain": [
              "Batches:   0%|          | 0/47 [00:00<?, ?it/s]"
            ],
            "application/vnd.jupyter.widget-view+json": {
              "version_major": 2,
              "version_minor": 0,
              "model_id": "97db08854b3c4e068a6403ae522a862e"
            }
          },
          "metadata": {}
        },
        {
          "output_type": "display_data",
          "data": {
            "text/plain": [
              "Batches:   0%|          | 0/71 [00:00<?, ?it/s]"
            ],
            "application/vnd.jupyter.widget-view+json": {
              "version_major": 2,
              "version_minor": 0,
              "model_id": "d14a19acf9d34e979c68a9c242b16b04"
            }
          },
          "metadata": {}
        }
      ]
    },
    {
      "cell_type": "code",
      "source": [
        "classification_model = tf.keras.Sequential([\n",
        "    Dense(256, activation='relu', input_shape=(train_embeddings.shape[1],)),\n",
        "    Dropout(0.2),\n",
        "    Dense(num_classes, activation='softmax')\n",
        "])"
      ],
      "metadata": {
        "id": "ra1bcYUKf8kL"
      },
      "execution_count": 133,
      "outputs": []
    },
    {
      "cell_type": "code",
      "source": [
        "optim = tf.keras.optimizers.Adam(learning_rate=0.0002)\n",
        "classification_model.compile(loss='categorical_crossentropy', optimizer=optim, metrics=['accuracy'])\n"
      ],
      "metadata": {
        "id": "cBZExyLYf8mm"
      },
      "execution_count": 193,
      "outputs": []
    },
    {
      "cell_type": "code",
      "source": [
        "classification_model.fit(\n",
        "    train_embeddings,\n",
        "    train_label_categorical,\n",
        "    epochs=9,\n",
        "    batch_size=32,\n",
        "    validation_data=(val_embeddings, val_label_categorical),\n",
        "    verbose=2\n",
        ")"
      ],
      "metadata": {
        "colab": {
          "base_uri": "https://localhost:8080/"
        },
        "id": "zpFRp6kyf8qq",
        "outputId": "670c4112-9eb2-4ad2-b90d-4ffadcef5d75"
      },
      "execution_count": 144,
      "outputs": [
        {
          "output_type": "stream",
          "name": "stdout",
          "text": [
            "Epoch 1/9\n"
          ]
        },
        {
          "output_type": "stream",
          "name": "stderr",
          "text": [
            "/usr/local/lib/python3.10/dist-packages/tensorflow/python/data/ops/structured_function.py:254: UserWarning: Even though the `tf.config.experimental_run_functions_eagerly` option is set, this option does not apply to tf.data functions. To force eager execution of tf.data functions, please use `tf.data.experimental.enable_debug_mode()`.\n",
            "  warnings.warn(\n"
          ]
        },
        {
          "output_type": "stream",
          "name": "stdout",
          "text": [
            "379/379 - 11s - loss: 0.5930 - accuracy: 0.7531 - val_loss: 0.5647 - val_accuracy: 0.7760 - 11s/epoch - 29ms/step\n",
            "Epoch 2/9\n",
            "379/379 - 11s - loss: 0.5882 - accuracy: 0.7545 - val_loss: 0.5624 - val_accuracy: 0.7720 - 11s/epoch - 29ms/step\n",
            "Epoch 3/9\n",
            "379/379 - 12s - loss: 0.5831 - accuracy: 0.7579 - val_loss: 0.5588 - val_accuracy: 0.7760 - 12s/epoch - 33ms/step\n",
            "Epoch 4/9\n",
            "379/379 - 12s - loss: 0.5806 - accuracy: 0.7577 - val_loss: 0.5560 - val_accuracy: 0.7753 - 12s/epoch - 32ms/step\n",
            "Epoch 5/9\n",
            "379/379 - 12s - loss: 0.5792 - accuracy: 0.7573 - val_loss: 0.5552 - val_accuracy: 0.7727 - 12s/epoch - 31ms/step\n",
            "Epoch 6/9\n",
            "379/379 - 10s - loss: 0.5757 - accuracy: 0.7602 - val_loss: 0.5529 - val_accuracy: 0.7767 - 10s/epoch - 27ms/step\n",
            "Epoch 7/9\n",
            "379/379 - 12s - loss: 0.5725 - accuracy: 0.7642 - val_loss: 0.5502 - val_accuracy: 0.7753 - 12s/epoch - 33ms/step\n",
            "Epoch 8/9\n",
            "379/379 - 12s - loss: 0.5692 - accuracy: 0.7627 - val_loss: 0.5475 - val_accuracy: 0.7787 - 12s/epoch - 31ms/step\n",
            "Epoch 9/9\n",
            "379/379 - 12s - loss: 0.5674 - accuracy: 0.7659 - val_loss: 0.5460 - val_accuracy: 0.7780 - 12s/epoch - 31ms/step\n"
          ]
        },
        {
          "output_type": "execute_result",
          "data": {
            "text/plain": [
              "<keras.callbacks.History at 0x7916ec2225f0>"
            ]
          },
          "metadata": {},
          "execution_count": 144
        }
      ]
    },
    {
      "cell_type": "code",
      "source": [
        "test_loss, test_acc = classification_model.evaluate(test_embeddings, test_label_categorical)\n",
        "print(\"Test accuracy:\", test_acc)"
      ],
      "metadata": {
        "colab": {
          "base_uri": "https://localhost:8080/"
        },
        "id": "AvLLtOmLkJzP",
        "outputId": "2e65d39e-3edc-4ed6-ba9a-21d340b02c0c"
      },
      "execution_count": 145,
      "outputs": [
        {
          "output_type": "stream",
          "name": "stdout",
          "text": [
            "71/71 [==============================] - 1s 19ms/step - loss: 0.5673 - accuracy: 0.7729\n",
            "Test accuracy: 0.7728888988494873\n"
          ]
        }
      ]
    },
    {
      "cell_type": "code",
      "source": [
        "predictions = classification_model.predict(test_embeddings)\n",
        "predicted_labels = np.argmax(predictions, axis=1)\n",
        "predictions"
      ],
      "metadata": {
        "colab": {
          "base_uri": "https://localhost:8080/"
        },
        "id": "bWjvtnF6kKCU",
        "outputId": "50932126-f94f-46a4-9916-eff3588e51cb"
      },
      "execution_count": 199,
      "outputs": [
        {
          "output_type": "stream",
          "name": "stderr",
          "text": [
            "/usr/local/lib/python3.10/dist-packages/tensorflow/python/data/ops/structured_function.py:254: UserWarning: Even though the `tf.config.experimental_run_functions_eagerly` option is set, this option does not apply to tf.data functions. To force eager execution of tf.data functions, please use `tf.data.experimental.enable_debug_mode()`.\n",
            "  warnings.warn(\n"
          ]
        },
        {
          "output_type": "stream",
          "name": "stdout",
          "text": [
            "71/71 [==============================] - 2s 21ms/step\n"
          ]
        },
        {
          "output_type": "execute_result",
          "data": {
            "text/plain": [
              "array([[0.0256293 , 0.03547266, 0.938898  ],\n",
              "       [0.1537257 , 0.04624241, 0.8000319 ],\n",
              "       [0.2242181 , 0.5125116 , 0.26327026],\n",
              "       ...,\n",
              "       [0.505514  , 0.07611244, 0.41837353],\n",
              "       [0.7681849 , 0.10305046, 0.12876464],\n",
              "       [0.13284628, 0.8261927 , 0.040961  ]], dtype=float32)"
            ]
          },
          "metadata": {},
          "execution_count": 199
        }
      ]
    },
    {
      "cell_type": "code",
      "source": [
        "print(classification_report(test_labels, predicted_labels))"
      ],
      "metadata": {
        "colab": {
          "base_uri": "https://localhost:8080/"
        },
        "id": "2U_WIA0rkKPu",
        "outputId": "be9ce1e9-6e6d-4e62-9f2c-61c3e5a440de"
      },
      "execution_count": 146,
      "outputs": [
        {
          "output_type": "stream",
          "name": "stdout",
          "text": [
            "              precision    recall  f1-score   support\n",
            "\n",
            "          -1       0.00      0.00      0.00       750\n",
            "           0       0.72      0.73      0.73       750\n",
            "           1       0.80      0.72      0.76       750\n",
            "           2       0.00      0.00      0.00         0\n",
            "\n",
            "    accuracy                           0.48      2250\n",
            "   macro avg       0.38      0.36      0.37      2250\n",
            "weighted avg       0.51      0.48      0.49      2250\n",
            "\n"
          ]
        },
        {
          "output_type": "stream",
          "name": "stderr",
          "text": [
            "/usr/local/lib/python3.10/dist-packages/sklearn/metrics/_classification.py:1344: UndefinedMetricWarning: Precision and F-score are ill-defined and being set to 0.0 in labels with no predicted samples. Use `zero_division` parameter to control this behavior.\n",
            "  _warn_prf(average, modifier, msg_start, len(result))\n",
            "/usr/local/lib/python3.10/dist-packages/sklearn/metrics/_classification.py:1344: UndefinedMetricWarning: Recall and F-score are ill-defined and being set to 0.0 in labels with no true samples. Use `zero_division` parameter to control this behavior.\n",
            "  _warn_prf(average, modifier, msg_start, len(result))\n",
            "/usr/local/lib/python3.10/dist-packages/sklearn/metrics/_classification.py:1344: UndefinedMetricWarning: Precision and F-score are ill-defined and being set to 0.0 in labels with no predicted samples. Use `zero_division` parameter to control this behavior.\n",
            "  _warn_prf(average, modifier, msg_start, len(result))\n",
            "/usr/local/lib/python3.10/dist-packages/sklearn/metrics/_classification.py:1344: UndefinedMetricWarning: Recall and F-score are ill-defined and being set to 0.0 in labels with no true samples. Use `zero_division` parameter to control this behavior.\n",
            "  _warn_prf(average, modifier, msg_start, len(result))\n",
            "/usr/local/lib/python3.10/dist-packages/sklearn/metrics/_classification.py:1344: UndefinedMetricWarning: Precision and F-score are ill-defined and being set to 0.0 in labels with no predicted samples. Use `zero_division` parameter to control this behavior.\n",
            "  _warn_prf(average, modifier, msg_start, len(result))\n",
            "/usr/local/lib/python3.10/dist-packages/sklearn/metrics/_classification.py:1344: UndefinedMetricWarning: Recall and F-score are ill-defined and being set to 0.0 in labels with no true samples. Use `zero_division` parameter to control this behavior.\n",
            "  _warn_prf(average, modifier, msg_start, len(result))\n"
          ]
        }
      ]
    },
    {
      "cell_type": "code",
      "source": [
        "predicted_labels = np.argmax(predictions, axis=1)"
      ],
      "metadata": {
        "id": "pHB-k_D-t1Rt"
      },
      "execution_count": 148,
      "outputs": []
    },
    {
      "cell_type": "code",
      "source": [
        "conf_matrix = confusion_matrix(test_labels, predicted_labels, labels=[0, 1, 2])"
      ],
      "metadata": {
        "id": "RdjgKmoEt1Uh"
      },
      "execution_count": 147,
      "outputs": []
    },
    {
      "cell_type": "code",
      "source": [
        "print(\"Confusion Matrix:\")\n",
        "print(conf_matrix)"
      ],
      "metadata": {
        "colab": {
          "base_uri": "https://localhost:8080/"
        },
        "id": "OfsDxqs2t1W8",
        "outputId": "1e63226a-43d3-48bd-bd18-8700375fe631"
      },
      "execution_count": 149,
      "outputs": [
        {
          "output_type": "stream",
          "name": "stdout",
          "text": [
            "Confusion Matrix:\n",
            "[[551  90 109]\n",
            " [136 538  76]\n",
            " [  0   0   0]]\n"
          ]
        }
      ]
    },
    {
      "cell_type": "code",
      "source": [
        "f1_macro = f1_score(test_labels, predicted_labels, average='macro')\n",
        "f1_micro = f1_score(test_labels, predicted_labels, average='micro')"
      ],
      "metadata": {
        "id": "I8a8yuQct1bJ"
      },
      "execution_count": 150,
      "outputs": []
    },
    {
      "cell_type": "code",
      "source": [
        "print(\"Macro F1 Score:\", f1_macro)\n",
        "print(\"Micro F1 Score:\", f1_micro)"
      ],
      "metadata": {
        "colab": {
          "base_uri": "https://localhost:8080/"
        },
        "id": "JfpyI03Rt9Ll",
        "outputId": "2d999a18-3687-4503-e8bb-6034c4197ca9"
      },
      "execution_count": 151,
      "outputs": [
        {
          "output_type": "stream",
          "name": "stdout",
          "text": [
            "Macro F1 Score: 0.37067262945222584\n",
            "Micro F1 Score: 0.484\n"
          ]
        }
      ]
    }
  ]
}